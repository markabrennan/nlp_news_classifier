{
 "cells": [
  {
   "cell_type": "code",
   "execution_count": 118,
   "metadata": {},
   "outputs": [],
   "source": [
    "import requests\n",
    "import pandas as pd\n",
    "import numpy as np\n",
    "import json\n",
    "from bs4 import BeautifulSoup\n",
    "import config\n",
    "import logging\n",
    "import importlib\n",
    "import time\n",
    "import random\n",
    "from selenium import webdriver\n",
    "from selenium.webdriver.common.by import By \n",
    "from selenium.webdriver.support.ui import WebDriverWait \n",
    "from selenium.webdriver.support import expected_conditions as EC \n",
    "from selenium.common.exceptions import TimeoutException\n",
    "import validators\n",
    "import pickle\n",
    "import time\n",
    "import random\n",
    "from calendar import monthrange\n",
    "import re"
   ]
  },
  {
   "cell_type": "code",
   "execution_count": 2,
   "metadata": {},
   "outputs": [],
   "source": [
    "# Set logging parameters\n",
    "logging.basicConfig(level=logging.INFO, filename='ft_scraping.log', filemode='w+', \\\n",
    "                    format='%(asctime)-15s:  %(levelname)s - %(message)s')"
   ]
  },
  {
   "cell_type": "markdown",
   "metadata": {},
   "source": [
    "## Helper function to configure and format a json dict for the FT API"
   ]
  },
  {
   "cell_type": "code",
   "execution_count": 7,
   "metadata": {},
   "outputs": [],
   "source": [
    "def format_query_dict(date_str):\n",
    "    time_suffix = 'T00:00:00Z'\n",
    "    qry_fmt_str = 'World AND lastPublishDateTime:>{}'\n",
    "    full_date = date_str + time_suffix\n",
    "    full_qry_str = qry_fmt_str.format(full_date)\n",
    "    return  {\n",
    "        \"queryString\": full_qry_str,\n",
    "        \"resultContext\": {\n",
    "            \"aspects\": [\"title\", \"lifecycle\", \"location\", \"summary\", \"editorial\"]\n",
    "        },\n",
    "        \"queryContext\":{\n",
    "            \"curations\":[\"ARTICLES\"]\n",
    "        }\n",
    "    }"
   ]
  },
  {
   "cell_type": "markdown",
   "metadata": {},
   "source": [
    "## Code to pull out FT dicts containing article URLs and other meta-data"
   ]
  },
  {
   "cell_type": "code",
   "execution_count": 8,
   "metadata": {},
   "outputs": [],
   "source": [
    "def get_ft_url_dicts(data):\n",
    "    ft_url_dicts = []\n",
    "    for doc in data:\n",
    "        lastPubDateTime = doc['lifecycle']['lastPublishDateTime']\n",
    "        lastPubDate = lastPubDateTime[0:lastPubDateTime.find('T')]\n",
    "        \n",
    "        url = doc['location']['uri']\n",
    "        summary = ''\n",
    "        if 'excerpt' in (doc['summary'].keys()):\n",
    "            summary = doc['summary']['excerpt']\n",
    "        \n",
    "        dict_entry = dict(date=lastPubDate,\n",
    "                          summary=summary,\n",
    "                         url=url)\n",
    "        ft_url_dicts.append(dict_entry)\n",
    "    \n",
    "    return ft_url_dicts"
   ]
  },
  {
   "cell_type": "markdown",
   "metadata": {},
   "source": [
    "## Main driver code to get FT articles per month"
   ]
  },
  {
   "cell_type": "code",
   "execution_count": 17,
   "metadata": {},
   "outputs": [],
   "source": [
    "\n",
    "\n",
    "# set up a sequence of sleep times\n",
    "sequence = [x/10 for x in range(8, 14)]\n",
    "\n",
    "\n",
    "ft_archive_dict_list = []\n",
    "\n",
    "post_header = {\"X-Api-Key\": config.ft_api_key, \"Content-Type\": \"application/json\"}\n",
    "ft_post_url = 'http://api.ft.com/content/search/v1?'\n",
    "\n",
    "\n",
    "query_dict = {\"queryString\": \"World AND lastPublishDateTime:<2019-09-03T00:00:00Z\",\n",
    "              \"resultContext\": {\n",
    "                  \"aspects\": [\"title\", \"lifecycle\", \"location\", \"summary\", \"editorial\"]\n",
    "              },\n",
    "              \"queryContext\":{\n",
    "                  \"curations\":[\"ARTICLES\"]\n",
    "              }\n",
    "             }\n",
    "\n",
    "try:\n",
    "    logging.info(f\"Querying for: {query_dict['queryString']}\")\n",
    "    response = requests.post(ft_post_url, json=query_dict, headers=post_header)\n",
    "\n",
    "    # If the response was successful, no Exception will be raised\n",
    "    response.raise_for_status()\n",
    "except requests.exceptions.HTTPError as http_err:\n",
    "    logging.exception(f'HTTP error occurred: {http_err}')  \n",
    "except Exception as err:\n",
    "    logging.exception(f'Other error occurred: {err}')  \n",
    "else:\n",
    "    # get json dict\n",
    "    json_dict = response.json()\n",
    "    f =  open('ft_json_dict.json', 'w')\n",
    "    f.write(json.dumps(json_dict))\n",
    "    f.close()\n",
    "\n",
    "if 'results' in (json_dict.keys()):\n",
    "    if 'results' in (json_dict['results'][0].keys()):    \n",
    "        # pull out url dictionary\n",
    "        data = response.json()['results'][0]['results']\n",
    "        ft_archive_dict_list = get_ft_url_dicts(data)\n",
    "\n"
   ]
  },
  {
   "cell_type": "code",
   "execution_count": 20,
   "metadata": {
    "scrolled": true
   },
   "outputs": [
    {
     "name": "stdout",
     "output_type": "stream",
     "text": [
      "2019-09-02\n",
      "2019-09-02\n",
      "2019-09-02\n",
      "2019-09-02\n",
      "2019-09-02\n",
      "2019-09-02\n",
      "2019-09-02\n",
      "2019-09-02\n",
      "2019-09-02\n",
      "2019-09-02\n",
      "2019-09-02\n",
      "2019-09-02\n",
      "2019-09-02\n",
      "2019-09-02\n",
      "2019-09-02\n",
      "2019-09-02\n",
      "2019-09-02\n",
      "2019-09-02\n",
      "2019-09-02\n",
      "2019-09-02\n",
      "2019-09-02\n",
      "2019-09-02\n",
      "2019-09-02\n",
      "2019-09-02\n",
      "2019-09-02\n",
      "2019-09-02\n",
      "2019-09-02\n",
      "2019-09-02\n",
      "2019-09-02\n",
      "2019-09-02\n",
      "2019-09-02\n",
      "2019-09-02\n",
      "2019-09-02\n",
      "2019-09-02\n",
      "2019-09-02\n",
      "2019-09-02\n",
      "2019-09-02\n",
      "2019-09-02\n",
      "2019-09-02\n",
      "2019-09-02\n",
      "2019-09-02\n",
      "2019-09-02\n",
      "2019-09-02\n",
      "2019-09-02\n",
      "2019-09-02\n",
      "2019-09-02\n",
      "2019-09-02\n",
      "2019-09-02\n",
      "2019-09-02\n",
      "2019-09-02\n",
      "2019-09-02\n",
      "2019-09-02\n",
      "2019-09-02\n",
      "2019-09-02\n",
      "2019-09-02\n",
      "2019-09-02\n",
      "2019-09-02\n",
      "2019-09-02\n",
      "2019-09-02\n",
      "2019-09-02\n",
      "2019-09-02\n",
      "2019-09-02\n",
      "2019-09-02\n",
      "2019-09-02\n",
      "2019-09-02\n",
      "2019-09-02\n",
      "2019-09-02\n",
      "2019-09-02\n",
      "2019-09-02\n",
      "2019-09-02\n",
      "2019-09-02\n",
      "2019-09-02\n",
      "2019-09-02\n",
      "2019-09-02\n",
      "2019-09-02\n",
      "2019-09-02\n",
      "2019-09-02\n",
      "2019-09-02\n",
      "2019-09-02\n",
      "2019-09-01\n",
      "2019-09-01\n",
      "2019-09-01\n",
      "2019-09-01\n",
      "2019-09-01\n",
      "2019-09-01\n",
      "2019-09-01\n",
      "2019-09-01\n",
      "2019-09-01\n",
      "2019-09-01\n",
      "2019-09-01\n",
      "2019-09-01\n",
      "2019-09-01\n",
      "2019-09-01\n",
      "2019-09-01\n",
      "2019-09-01\n",
      "2019-09-01\n",
      "2019-09-01\n",
      "2019-09-01\n",
      "2019-09-01\n",
      "2019-09-01\n"
     ]
    }
   ],
   "source": [
    "for i in ft_archive_dict_list:\n",
    "    print(i['date'])"
   ]
  },
  {
   "cell_type": "code",
   "execution_count": 11,
   "metadata": {},
   "outputs": [],
   "source": [
    "def ft_get_month_archive(month, year):\n",
    "    \n",
    "    # set up a sequence of sleep times\n",
    "    sequence = [x/10 for x in range(8, 14)]\n",
    "\n",
    "    # workaround: only go to Oct 11\n",
    "    start = 0\n",
    "    end = 0\n",
    "    if month == 10:\n",
    "        start = 1\n",
    "        end = 11\n",
    "    else:\n",
    "        month_days = monthrange(int(year), int(month))\n",
    "        start = month_days[0]\n",
    "        end = month_days[1]\n",
    "        \n",
    "    ft_archive_dict_list = []\n",
    "    \n",
    "    post_header = {\"X-Api-Key\": config.ft_api_key, \"Content-Type\": \"application/json\"}\n",
    "    ft_post_url = 'http://api.ft.com/content/search/v1?'\n",
    "    \n",
    "    for day in range(start, end):\n",
    "        day_str = ''\n",
    "        \n",
    "        if day < 10:\n",
    "            day_str = '0' + str(day)\n",
    "        else:\n",
    "            day_str = str(day)\n",
    "\n",
    "        if int(month) < 10:\n",
    "            month_str = '0' + month    \n",
    "        \n",
    "        query_dict = format_query_dict(f'{year}-{month_str}-{day_str}')\n",
    "        \n",
    "        try:\n",
    "            logging.info(f\"Querying for: {query_dict['queryString']}\")\n",
    "            response = requests.post(ft_post_url, json=query_dict, headers=post_header)\n",
    "        \n",
    "            # If the response was successful, no Exception will be raised\n",
    "            response.raise_for_status()\n",
    "        except requests.exceptions.HTTPError as http_err:\n",
    "            logging.exception(f'HTTP error occurred: {http_err}')  \n",
    "            continue\n",
    "        except Exception as err:\n",
    "            logging.exception(f'Other error occurred: {err}')  \n",
    "            continue\n",
    "        else:\n",
    "            # get json dict\n",
    "            json_dict = response.json()\n",
    "            f =  open('ft_json_dict.json', 'w')\n",
    "            f.write(json.dumps(json_dict))\n",
    "            f.close()\n",
    "            \n",
    "            if 'results' in (json_dict.keys()):\n",
    "                if 'results' in (json_dict['results'][0].keys()):    \n",
    "                    # pull out url dictionary\n",
    "                    data = response.json()['results'][0]['results']\n",
    "                    ft_archive_dict_list.extend(get_ft_url_dicts(data))\n",
    "            \n",
    "            # sleep a random period before invoking API again\n",
    "        \n",
    "    return ft_archive_dict_list"
   ]
  },
  {
   "cell_type": "markdown",
   "metadata": {},
   "source": [
    "## Manually invoke the code to fetch a single month's set of URLs"
   ]
  },
  {
   "cell_type": "code",
   "execution_count": 12,
   "metadata": {},
   "outputs": [],
   "source": [
    "ft_archive_dict_list = ft_get_month_archive('9', '2019')"
   ]
  },
  {
   "cell_type": "code",
   "execution_count": 13,
   "metadata": {},
   "outputs": [
    {
     "data": {
      "text/plain": [
       "2400"
      ]
     },
     "execution_count": 13,
     "metadata": {},
     "output_type": "execute_result"
    }
   ],
   "source": [
    "len(ft_archive_dict_list)"
   ]
  },
  {
   "cell_type": "markdown",
   "metadata": {},
   "source": [
    "## Let's save this URL list for safety"
   ]
  },
  {
   "cell_type": "code",
   "execution_count": 46,
   "metadata": {},
   "outputs": [],
   "source": [
    "with open('ft_sep_archive_urls.pkl', 'wb') as f:\n",
    "    pickle.dump(ft_archive_dict_list, f)"
   ]
  },
  {
   "cell_type": "code",
   "execution_count": 63,
   "metadata": {},
   "outputs": [],
   "source": [
    "with open('ft_sep_archive_urls.pkl', 'rb') as f:\n",
    "    ft_archive_dict_list = pickle.load(f)"
   ]
  },
  {
   "cell_type": "code",
   "execution_count": 65,
   "metadata": {},
   "outputs": [
    {
     "data": {
      "text/plain": [
       "{'date': '2019-10-12',\n",
       " 'summary': 'Nigel Dodds, deputy leader of the Democratic Unionist Party, has voiced doubts about the idea of a “double customs” plan...',\n",
       " 'url': 'https://www.ft.com/content/6cb5ea32-ed1a-11e9-ad1e-4367d8281195'}"
      ]
     },
     "execution_count": 65,
     "metadata": {},
     "output_type": "execute_result"
    }
   ],
   "source": [
    "ft_archive_dict_list[0]"
   ]
  },
  {
   "cell_type": "markdown",
   "metadata": {},
   "source": [
    "## SELENIUM!"
   ]
  },
  {
   "cell_type": "code",
   "execution_count": null,
   "metadata": {},
   "outputs": [],
   "source": [
    "## \n",
    "## Set of methods for reference\n",
    "##\n",
    "# These return the first instance\n",
    "# driver.find_element_by_id()\n",
    "# driver.find_element_by_name()\n",
    "# driver.find_element_by_xpath()\n",
    "# driver.find_element_by_link_text()\n",
    "# driver.find_element_by_partial_link_text()\n",
    "# driver.find_element_by_tag_name()\n",
    "# driver.find_element_by_class_name()\n",
    "# driver.find_element_by_css_selector()\n",
    "# # These return a list of all instances\n",
    "# driver.find_elements_by_name()\n",
    "# driver.find_elements_by_xpath()\n",
    "# driver.find_elements_by_link_text()\n",
    "# driver.find_elements_by_partial_link_text()\n",
    "# driver.find_elements_by_tag_name()\n",
    "# driver.find_elements_by_class_name()\n",
    "# driver.find_elements_by_css_selector()"
   ]
  },
  {
   "cell_type": "code",
   "execution_count": 22,
   "metadata": {},
   "outputs": [],
   "source": [
    "def ft_selenium_login(driver, url):\n",
    "    SUBMIT_BUTTON = '//*[@id=\"login-form\"]/div[3]/button'\n",
    "    \n",
    "    driver.get(url)\n",
    "    username = driver.find_element_by_id(\"enter-email\")\n",
    "\n",
    "    next_button   = driver.find_element_by_id(\"enter-email-next\")\n",
    "\n",
    "    username.send_keys(config.FT_USERNAME)\n",
    "\n",
    "    next_button.click()\n",
    "    \n",
    "    password = driver.find_element_by_id('enter-password')\n",
    "    password.send_keys(config.FT_PASS)\n",
    "    \n",
    "    pwd_submit = driver.find_element_by_xpath(SUBMIT_BUTTON)\n",
    "    pwd_submit.click()\n"
   ]
  },
  {
   "cell_type": "markdown",
   "metadata": {},
   "source": [
    "## Manually do the FT login via Selenium in order to control and supervise."
   ]
  },
  {
   "cell_type": "code",
   "execution_count": 23,
   "metadata": {},
   "outputs": [],
   "source": [
    "FT_LOGIN_URL = 'https://accounts.ft.com/login'\n",
    "\n",
    "# Get Driver\n",
    "driver = webdriver.Chrome('/Users/markbrennan/Desktop/chromedriver')\n",
    "\n",
    "# Login first (will need manual supervision):\n",
    "ft_selenium_login(driver, FT_LOGIN_URL)"
   ]
  },
  {
   "cell_type": "code",
   "execution_count": 21,
   "metadata": {},
   "outputs": [
    {
     "data": {
      "text/plain": [
       "'class=\"o-teaser__heading\"'"
      ]
     },
     "execution_count": 21,
     "metadata": {},
     "output_type": "execute_result"
    }
   ],
   "source": [
    "'class=\"o-teaser__heading\"'"
   ]
  },
  {
   "cell_type": "code",
   "execution_count": 24,
   "metadata": {},
   "outputs": [],
   "source": [
    "driver.get('https://www.ft.com/world?page=101')"
   ]
  },
  {
   "cell_type": "code",
   "execution_count": 63,
   "metadata": {},
   "outputs": [],
   "source": [
    "refs = driver.find_elements_by_class_name('o-teaser__heading')"
   ]
  },
  {
   "cell_type": "code",
   "execution_count": 64,
   "metadata": {},
   "outputs": [],
   "source": [
    "t = refs[0]"
   ]
  },
  {
   "cell_type": "code",
   "execution_count": null,
   "metadata": {},
   "outputs": [],
   "source": [
    "#site-content > div > div.stream__right-hand > div > div.recommended-stories--stream.o-teaser-collection.js-track-scroll-event > div > div:nth-child(9) > div > div.o-teaser__content > div.o-teaser__heading > a"
   ]
  },
  {
   "cell_type": "code",
   "execution_count": 65,
   "metadata": {},
   "outputs": [
    {
     "data": {
      "text/plain": [
       "'https://www.ft.com/content/4a9d4d4c-cd8e-11e9-b018-ca4456540ea6'"
      ]
     },
     "execution_count": 65,
     "metadata": {},
     "output_type": "execute_result"
    }
   ],
   "source": [
    "t. find_element_by_css_selector('a').get_attribute('href')"
   ]
  },
  {
   "cell_type": "code",
   "execution_count": null,
   "metadata": {},
   "outputs": [],
   "source": []
  },
  {
   "cell_type": "code",
   "execution_count": null,
   "metadata": {},
   "outputs": [],
   "source": [
    "<a href=\"/content/4a4505f8-9808-11e9-8cfb-30c211dcd229\" data-trackable=\"heading-link\" class=\"js-teaser-heading-link\">A year in pictures: how LGBT+ rights have changed</a>"
   ]
  },
  {
   "cell_type": "code",
   "execution_count": null,
   "metadata": {},
   "outputs": [],
   "source": [
    "<div class=\"o-teaser__heading\"><a href=\"/content/ee1db498-ce47-11e9-99a4-b5ded7a7fe3f\" data-trackable=\"heading-link\" class=\"js-teaser-heading-link\">Polish opposition picks candidate for prime minister</a></div>\n"
   ]
  },
  {
   "cell_type": "code",
   "execution_count": null,
   "metadata": {},
   "outputs": [],
   "source": [
    "//*[@id=\"stream\"]/div[1]/ul/li[1]/div[2]/div/div/div[1]/div[2]/a"
   ]
  },
  {
   "cell_type": "code",
   "execution_count": null,
   "metadata": {},
   "outputs": [],
   "source": [
    "//*[@id=\"stream\"]/div[1]/ul/li[2]/div[2]/div/div/div[1]/div[2]/a"
   ]
  },
  {
   "cell_type": "code",
   "execution_count": 54,
   "metadata": {},
   "outputs": [],
   "source": [
    "elems = driver.find_elements_by_xpath('//*[@id=\"stream\"]/div[1]/ul/li[2]/div[2]/div/div/div[1]/div[2]/a')"
   ]
  },
  {
   "cell_type": "code",
   "execution_count": 56,
   "metadata": {},
   "outputs": [],
   "source": [
    "u = elems.pop()"
   ]
  },
  {
   "cell_type": "code",
   "execution_count": 57,
   "metadata": {},
   "outputs": [
    {
     "data": {
      "text/plain": [
       "'Polish opposition picks candidate for prime minister'"
      ]
     },
     "execution_count": 57,
     "metadata": {},
     "output_type": "execute_result"
    }
   ],
   "source": [
    "u."
   ]
  },
  {
   "cell_type": "code",
   "execution_count": null,
   "metadata": {},
   "outputs": [],
   "source": [
    "ref.find_"
   ]
  },
  {
   "cell_type": "code",
   "execution_count": 28,
   "metadata": {},
   "outputs": [],
   "source": [
    "xpath = '//*[@id=\"stream\"]/div[1]/ul/li[2]/div[2]/div/div/div[1]/div[2]/a'"
   ]
  },
  {
   "cell_type": "code",
   "execution_count": 29,
   "metadata": {},
   "outputs": [
    {
     "data": {
      "text/plain": [
       "[<selenium.webdriver.remote.webelement.WebElement (session=\"2c7ca6974a06e55a6346fba4308f6fdc\", element=\"c7300799-5eed-478c-a631-901fa3670028\")>]"
      ]
     },
     "execution_count": 29,
     "metadata": {},
     "output_type": "execute_result"
    }
   ],
   "source": [
    "driver.find_elements_by_xpath(xpath)"
   ]
  },
  {
   "cell_type": "code",
   "execution_count": 30,
   "metadata": {},
   "outputs": [],
   "source": [
    "urls = driver.find_elements_by_xpath(xpath)"
   ]
  },
  {
   "cell_type": "code",
   "execution_count": 32,
   "metadata": {},
   "outputs": [
    {
     "data": {
      "text/plain": [
       "<selenium.webdriver.remote.webelement.WebElement (session=\"2c7ca6974a06e55a6346fba4308f6fdc\", element=\"c7300799-5eed-478c-a631-901fa3670028\")>"
      ]
     },
     "execution_count": 32,
     "metadata": {},
     "output_type": "execute_result"
    }
   ],
   "source": [
    "urls.pop()"
   ]
  },
  {
   "cell_type": "markdown",
   "metadata": {},
   "source": [
    "## New code to scrape World news URLs from the website"
   ]
  },
  {
   "cell_type": "code",
   "execution_count": null,
   "metadata": {},
   "outputs": [],
   "source": []
  },
  {
   "cell_type": "code",
   "execution_count": 71,
   "metadata": {},
   "outputs": [],
   "source": [
    "with open('ft_url_list.txt', 'a') as ft_url_file:\n",
    "    sleep_sequence = [x/10 for x in range(6, 19)]    \n",
    "    ft_url_list = []\n",
    "    ft_base_url = 'https://www.ft.com/world?page={}'\n",
    "    for page_num in range(2, 250):  \n",
    "        url = ft_base_url.format(page_num)\n",
    "        logging.info(f'Scraping url: {url}')\n",
    "        try:\n",
    "            driver.get(url)\n",
    "            article_refs = driver.find_elements_by_class_name('o-teaser__heading')\n",
    "            for ref in article_refs:\n",
    "                article_url = ref.find_element_by_css_selector('a').get_attribute('href')\n",
    "\n",
    "                ft_url_list.append(article_url)\n",
    "                ft_url_file.write(article_url)\n",
    "                ft_url_file.write('\\n')\n",
    "        except Exception as err:\n",
    "            logging.exception(f'Other error occurred: {err}')\n",
    "            continue\n",
    "            \n",
    "        time.sleep(random.choice(sleep_sequence))\n",
    "    "
   ]
  },
  {
   "cell_type": "code",
   "execution_count": 72,
   "metadata": {},
   "outputs": [
    {
     "data": {
      "text/plain": [
       "7079"
      ]
     },
     "execution_count": 72,
     "metadata": {},
     "output_type": "execute_result"
    }
   ],
   "source": [
    "len(ft_url_list)"
   ]
  },
  {
   "cell_type": "code",
   "execution_count": 73,
   "metadata": {},
   "outputs": [],
   "source": [
    "ad = 'adclick.g.doubleclick.net'\n",
    "ig = 'ig.ft.com'\n",
    "alphaville = 'ftalphaville.ft.com'\n",
    "cash_trails = 'cash-trails'\n",
    "podcast = 'podcast'\n",
    "video = 'video'\n",
    "property_listing = 'propertylistings.ft.com'\n"
   ]
  },
  {
   "cell_type": "code",
   "execution_count": 81,
   "metadata": {},
   "outputs": [],
   "source": [
    "bad_urls = [ad,\n",
    "ig,\n",
    "alphaville,\n",
    "cash_trails,\n",
    "podcast,\n",
    "video,\n",
    "property_listing]"
   ]
  },
  {
   "cell_type": "code",
   "execution_count": 82,
   "metadata": {},
   "outputs": [
    {
     "data": {
      "text/plain": [
       "['adclick.g.doubleclick.net',\n",
       " 'ig.ft.com',\n",
       " 'ftalphaville.ft.com',\n",
       " 'cash-trails',\n",
       " 'podcast',\n",
       " 'video',\n",
       " 'propertylistings.ft.com']"
      ]
     },
     "execution_count": 82,
     "metadata": {},
     "output_type": "execute_result"
    }
   ],
   "source": [
    "bad_urls"
   ]
  },
  {
   "cell_type": "code",
   "execution_count": 74,
   "metadata": {},
   "outputs": [],
   "source": [
    "t = 'https://adclick.g.doubleclick.net/pcs/click?xai=AKAOjsuAfMp-SoE9pKoWKNGlnRmC4LrY-EBrWNBbwTXBVivxaHr2HoNZKbVZfbHKlNHS_PtCs8mqnHGcX_Q30aDBjbOg32la4eWpzJLTl     yGNILQt0xwiBF_FjTNB4RotFAOlco9eorpLtlAxfHd8UYGVf5Jj9kYllfSLYdSoVOvbPo9DXoPhrLyATvkK24D4uN-fO6rrEM5hJa6AbAvhjst-wMK9SCddx1XW_6waccLJZZ1AjQU-hcLbEQ&sig=Cg0     ArKJSzPTYVqj9RFMjEAE&urlfix=1&adurl=https://www.ft.com/content/82fdd5fa-be73-11e9-9381-78bab8a70848'"
   ]
  },
  {
   "cell_type": "code",
   "execution_count": 75,
   "metadata": {},
   "outputs": [
    {
     "data": {
      "text/plain": [
       "'https://adclick.g.doubleclick.net/pcs/click?xai=AKAOjsuAfMp-SoE9pKoWKNGlnRmC4LrY-EBrWNBbwTXBVivxaHr2HoNZKbVZfbHKlNHS_PtCs8mqnHGcX_Q30aDBjbOg32la4eWpzJLTl     yGNILQt0xwiBF_FjTNB4RotFAOlco9eorpLtlAxfHd8UYGVf5Jj9kYllfSLYdSoVOvbPo9DXoPhrLyATvkK24D4uN-fO6rrEM5hJa6AbAvhjst-wMK9SCddx1XW_6waccLJZZ1AjQU-hcLbEQ&sig=Cg0     ArKJSzPTYVqj9RFMjEAE&urlfix=1&adurl=https://www.ft.com/content/82fdd5fa-be73-11e9-9381-78bab8a70848'"
      ]
     },
     "execution_count": 75,
     "metadata": {},
     "output_type": "execute_result"
    }
   ],
   "source": [
    "t"
   ]
  },
  {
   "cell_type": "code",
   "execution_count": 76,
   "metadata": {},
   "outputs": [
    {
     "data": {
      "text/plain": [
       "8"
      ]
     },
     "execution_count": 76,
     "metadata": {},
     "output_type": "execute_result"
    }
   ],
   "source": [
    "t.find(ad)"
   ]
  },
  {
   "cell_type": "code",
   "execution_count": 77,
   "metadata": {},
   "outputs": [],
   "source": [
    "t = 'http://ftalphaville.ft.com/2019/10/01/1569910148000/Further-reading'"
   ]
  },
  {
   "cell_type": "code",
   "execution_count": 78,
   "metadata": {},
   "outputs": [
    {
     "data": {
      "text/plain": [
       "7"
      ]
     },
     "execution_count": 78,
     "metadata": {},
     "output_type": "execute_result"
    }
   ],
   "source": [
    "t.find(alphaville)"
   ]
  },
  {
   "cell_type": "code",
   "execution_count": 79,
   "metadata": {},
   "outputs": [],
   "source": [
    "t = 'https://ig.ft.com/trump-china-tariffs'"
   ]
  },
  {
   "cell_type": "code",
   "execution_count": 80,
   "metadata": {},
   "outputs": [
    {
     "data": {
      "text/plain": [
       "8"
      ]
     },
     "execution_count": 80,
     "metadata": {},
     "output_type": "execute_result"
    }
   ],
   "source": [
    "t.find(ig)"
   ]
  },
  {
   "cell_type": "code",
   "execution_count": 88,
   "metadata": {},
   "outputs": [],
   "source": [
    "new_ft_url_list = []\n",
    "for url in ft_url_list:\n",
    "    good = True\n",
    "    for bad in bad_urls:\n",
    "        if url.find(bad) > -1:\n",
    "            good = False\n",
    "            break\n",
    "    if good:\n",
    "        new_ft_url_list.append(url)\n"
   ]
  },
  {
   "cell_type": "code",
   "execution_count": 89,
   "metadata": {},
   "outputs": [
    {
     "data": {
      "text/plain": [
       "6146"
      ]
     },
     "execution_count": 89,
     "metadata": {},
     "output_type": "execute_result"
    }
   ],
   "source": [
    "len(new_ft_url_list)"
   ]
  },
  {
   "cell_type": "code",
   "execution_count": 92,
   "metadata": {},
   "outputs": [],
   "source": [
    "with open('ft_good_url_list.pkl', 'wb') as f:\n",
    "    pickle.dump(new_ft_url_list, f)"
   ]
  },
  {
   "cell_type": "code",
   "execution_count": null,
   "metadata": {},
   "outputs": [],
   "source": []
  },
  {
   "cell_type": "code",
   "execution_count": 93,
   "metadata": {},
   "outputs": [],
   "source": [
    "test_url = new_ft_url_list[0]"
   ]
  },
  {
   "cell_type": "code",
   "execution_count": 94,
   "metadata": {},
   "outputs": [
    {
     "data": {
      "text/plain": [
       "'https://www.ft.com/content/59e751c0-e8f6-11e9-a240-3b065ef5fc55'"
      ]
     },
     "execution_count": 94,
     "metadata": {},
     "output_type": "execute_result"
    }
   ],
   "source": [
    "test_url"
   ]
  },
  {
   "cell_type": "code",
   "execution_count": 95,
   "metadata": {},
   "outputs": [
    {
     "data": {
      "text/plain": [
       "'https://www.ft.com/content/d0fe931e-d946-11e9-8f9b-77216ebe1f17'"
      ]
     },
     "execution_count": 95,
     "metadata": {},
     "output_type": "execute_result"
    }
   ],
   "source": [
    "new_ft_url_list[1]"
   ]
  },
  {
   "cell_type": "code",
   "execution_count": null,
   "metadata": {},
   "outputs": [],
   "source": [
    "<span class=\"article-classifier__gap\">Iran: hardliners’ anti-graft drive masks wider goals</span>"
   ]
  },
  {
   "cell_type": "code",
   "execution_count": 96,
   "metadata": {},
   "outputs": [],
   "source": [
    "driver.get('https://www.ft.com/content/d0fe931e-d946-11e9-8f9b-77216ebe1f17')"
   ]
  },
  {
   "cell_type": "code",
   "execution_count": 97,
   "metadata": {},
   "outputs": [],
   "source": [
    "article = driver.find_elements_by_class_name('article__content')[0].text"
   ]
  },
  {
   "cell_type": "code",
   "execution_count": 117,
   "metadata": {},
   "outputs": [
    {
     "data": {
      "text/plain": [
       "\"Najmeh Bozorgmehr in Tehran 21 HOURS AGO\\nPrint this page\\n26\\nIt wasn’t his “luxury” house that made Iranians sit up and notice. It wasn’t even the top of the range Mercedes-Benz, described by one prosecutor as payment for Ammar Salehi’s alleged role in facilitating a $26m bank fraud. What really surprised people, inured to corruption at the highest levels of power in Iran, was that Mr Salehi had been arrested at all.\\nMany assumed the 39-year-old son of a former army commander was beyond the reach of the state’s anti-corruption investigators. But it seems that is no longer the case. Mr Salehi is among hundreds of people with links to senior figures who are facing charges in an anti-corruption drive targeting the country’s political and military elite. With the US tightening sanctions, some in the regime believe the crackdown is essential to the Islamic republic’s survival.\\nCharged with “collaboration in disrupting the economic system”, Mr Salehi is accused of misusing his links to powerful people to help business partners — named in court as the Jahanbani group, a privately owned conglomerate — borrow 1.1tn rials ($26.1m) from Bank Sarmayeh, a privately owned bank. The loans were never repaid.\\nHaving pleaded not guilty, Mr Salehi was released on bail. A second man, the son of a former commander of the elite Islamic Revolutionary Guard Corps, is also facing prosecution in the same scandal which has left Bank Sarmayeh, a medium-sized lender, on the verge of bankruptcy.\\nPresident Hassan Rouhani's younger brother Hossein Fereydoun, pictured, has been caught in the anti-corruption drive © AFP\\nThis case and others — including a five-year jail term for Hossein Fereydoun, younger brother of Iran’s president Hassan Rouhani, for accepting bribes from a steel tycoon — have tapped into public anger over the lavish lifestyles of some politicians’ families.\\nFronted by Ebrahim Raisi, the one-time presidential candidate who was named judiciary chief in March, the crackdown is seen to have dual economic and political purposes. The tightening of US sanctions since May 2018 means that the state needs all the cash it can get. And stopping politically-connected people from stealing will send a message to those who took part in large-scale anti-regime protests at the end of 2017 — the biggest in almost a decade — that they are being listened to. \\n“If the Islamic republic succeeds in this anti-corruption campaign, it can enhance its survival. If it fails, this corruption could rock the country like a nine-Richter scale quake,” says Amir Mohebbian, a conservative commentator. “Iran has realised that its inefficient and corrupt managers endanger the political system more than foreign enemies do.”\\nMr Raisi has targeted corruption inside the judiciary and arrested people from different political camps. But reformists say it is not just economic necessity that is driving the crackdown. Led by the judiciary and the Revolutionary Guards the campaign is also viewed as an opportunity for political gains.\\nThe hardliners — who have lost every national election since 2013 — view the anti-graft drive as a way of reasserting their hold on power and boosting their image ahead of parliamentary elections next year and a presidential poll in 2021, say analysts. Yet these factions have in the past been accused, by reformers, of feeding off the system when they were in charge of the government in 2005-13. Reformist politicians claim they still cannot track about $300bn of oil money that reportedly disappeared during that period.\\nFires raged at Saudi Aramco's Abqaiq plant last month following 3am drone and missile strikes. The US blamed Tehran for the attack. © Reuters\\nAlthough they back the anti-corruption drive, reformers fear any further empowerment of hardliners could be used to block reforms at home and thwart attempts to engage in negotiations with the US. Human rights activists and journalists who write for pro-reform media, have also been targeted in a separate crackdown.\\nThis is all happening against a backdrop where many in Tehran — hardliners and reformers — believe President Donald Trump, who in May 2018 pulled the US out of the nuclear accord that Iran had signed with world powers, is seeking regime change through sanctions. It is, say insiders, a choreographed “economic war” designed to make the political system implode from within by depriving it of petrodollars and eventually triggering street protests.\\nThis hostile approach has given fresh impetus to Iran’s hardline forces and undermined the pro-reform government of Mr Rouhani. The president has complained in a private meeting with Mr Raisi that his campaign is tainted by the hardliners’ motivation to purge opponents, according to domestic media. He has not responded to his brother’s sentencing two weeks ago.\\nMr Raisi ran for president in 2017 as the main hardline candidate but lost to Mr Rouhani in a fierce competition. Hardline forces are said to be looking for a 2021 candidate who will hold reformists accountable on the record of Mr Rouhani whose signature achievement — the nuclear deal — is on the verge of collapse. The president is still seeking ways to rescue the accord.\\nThe Rouhani camp is accused by hardliners of being naive and failing to realise the US is untrustworthy. “You need to disarm the US by combating corruption at home,” says an Iranian businessman who has worked with companies run by the Revolutionary Guard. “You cannot let the US exploit the corruption and fan public anger.”\\nMike Pompeo, US secretary of state, last year dubbed Iran’s leaders “hypocritical holy men” who accumulated wealth while Iranians suffered.\\nRecommended\\nMohammad Javad Zarif\\nStrait of Hormuz region can find its own solution\\nAyatollah Ali Khamenei — Iran’s supreme leader and ultimate decision maker — has given Mr Raisi free rein, say analysts, after deciding the corruption in the country is not systemic and therefore can be dealt with on an individual, rather than institutional, level.\\nSome economists, echoing Mr Rouhani, say the anti-graft drive is compromised by the vested interests of religious and revolutionary foundations, including the Guards. They have developed businesses estimated to be worth hundreds of billions of dollars over the past three decades in sectors ranging from telecoms to steel and petrochemicals. Some of those businesses are now central to the regime’s efforts to offset the impact of sanctions. \\nIt does not mean that those close to the regime are exempt from the Raisi campaign. Members of the elite forces — whose prosecutions have not been publicised — have been forced to hand back their ill-gotten cash without going to court, analysts say. \\nBut for those driving the campaign the benefits outweigh any downside. “Sanctions have created the opportunity for the Guards to prepare the ground for an internal metamorphosis in alliance with the judiciary,” says one regime insider close to the hardliners. “The Guards are gathering to remove reformists from power.”\\nThe ultimate goal for those involved in the power struggle is to influence the succession race to replace Mr Khamenei, the 80-year-old supreme leader.\\nIran's president Hassan Rouhani is seeking ways to rescue the nuclear deal, his signature achievement © Getty\\n“Even if the US had not maximised its pressure on Iran, the hardliners would still have tried to monopolise the political system to give the Guards a central role after the supreme leader’s death,” says one reformist politician. “But Trump has provided a timely excuse and helped them to [punish the reformists] while they can blame the US for everything and demonstrate a show of power [with military might in the region and the crackdown at home].”\\nThis partly explains why the emboldened hardline forces see no urgent need to talk to the US — something they think would benefit the Rouhani camp if it led to any easing of sanctions. Instead they want to shut down any discussion until after the next presidential election.\\nMr Trump insists there will be no softening of sanctions. Yet he has shown a willingness to meet Mr Rouhani. The US president tried to speak to his Iranian counterpart by telephone last month on the sidelines of the UN General Assembly in New York. Mr Rouhani declined.\\nEbrahim Raisi ran for the presidency in 2017 as the main hardline candidate but lost to Mr Rouhani © AFP\\nMr Khamenei — who would have the final say over any such meeting — can curb hardliners and allow talks to be handled by Mr Rouhani but he has made negotiations at any level with US officials conditional on the lifting of sanctions, analysts say. Meanwhile, the Guards continue to demonstrate power in the region from Yemen to Syria, the Gulf and beyond, which have made western governments question the diplomatic efforts made by Mohammad Javad Zarif, Iran’s foreign minister.\\nThe US blamed Tehran for the attack on Saudi Aramco last month although it was claimed by Iranian-backed Houthi rebels in Yemen. Iran shot down an unmanned US drone in June and seized a British-flagged tanker in July after their proxy forces allegedly sabotaged six tankers off the coast of the UAE in May and June.\\n“Mr Khamenei is not fundamentally against negotiations but he believes the US intends to turn talks into a trial of the Islamic republic,” says a relative of the supreme leader. “He believes that we first need to be very strong in the region. We have shown that we are not too far from that point of determining regional developments. The US should not be able to ignore our power.”\\nTehran’s self-declared policy of deterrence has helped boost Iranian pride in their armed forces. And, say analysts, the hardliners now hope this show of regional force, mixed with their crackdown on corrupt elements at home, will translate into support at elections.\\n“Hardliners have so far been successful because security is now the top priority of Iran,” says one senior reformist politician. “But do they have a charismatic leader who can unite people under any conditions? Do they have an ideology which is acceptable to people? Can they manage the country if civil servants are not paid on time because of sanctions? The answers are no.”\\nTehran remains determined to keep other diplomatic options open. It continues to negotiate with Japan, Russia, China and the European signatories to the nuclear deal — Britain, France and Germany. And it hopes a French initiative to provide Tehran with a $15bn credit line — designed to compensate for some of the promised benefits of the nuclear deal that have failed to materialise — will work out. But to keep the pressure on the other side Iran has begun rolling back its commitments to the nuclear deal and restarting its uranium enrichment activities.\\nThe Islamic republic believes it is negotiating from a position of strength. Not just because the Europeans and US look divided but because the economy — rocked last year by a 60 per cent depreciation of the rial against the US dollar that pushed inflation above 40 per cent — now looks more stable. And street protests have shrunk.\\nAlthough dependent on oil revenues to generate its main foreign currency income, the Iranian economy is far more diversified than some of its oil-rich neighbours and is almost free of foreign debt. The value of its exports of non-oil goods — from agriculture to steel, cement and construction materials — to its neighbours and other Islamic states in the year to April was $41bn, slightly higher than the previous year, according to the customs administration. That is considered by officials as a major achievement in the current climate, even though exports to the EU, at $10bn, marked a decline of 31 per cent compared with a year earlier.\\nThe biggest positive has been the stability of the currency market. \\n“Even regime insiders would not have imagined last year that today the economy would have stabilised under sanctions and that we can afford a policy of resistance,” says Saeed Laylaz, a reformist analyst of Iran’s political economy. “When steel production increases by 10 per cent this year and sometimes we have surplus US dollars in the currency market, it means we are overcoming the effects of sanctions.”\\nFires raged at Saudi Aramco's Abqaiq plant last month following 3am drone and missile strikes. The US blamed Tehran for the attack. © Reuters\\nThere are those, however, who warn that the anti-corruption campaign will not be allowed to go too far, partly due to the fragile economy but also for political reasons. “When figures inside the judiciary, parliament and government are arrested, it shows cronies are inside the regime,” says one Tehran-based economist. “So the uprooting of the corruption could lead [long-term] to the collapse of the regime.”\\nSome sectors are facing intense scrutiny. Carmakers have increased vehicle prices by 50 per cent over the past year, tearing up their pre-sanctions deals with buyers. The chief executive of one carmaker is in jail and another has been banned from leaving Iran — both are facing unspecified corruption charges. Former managers at the carmaker Saipa showed up in court in prison pyjamas last month, while two MPs were briefly detained in September over allegations of corruption in the car sector.\\n“The car mafia is the biggest and ugliest one in the country,” says one business analyst. “When you deal with them, you send a message that no one else is immune.”\\nWhile the anti-corruption campaign is peppered with populist messages and political motivations, says the insider close to the hardliners, it is unlikely to go too deeply into previous privatisation and land confiscation scandals.\\n“Investigations into ‘where has your wealth come from?’ would mean another revolution — which is not possible,” adds the regime insider. “This campaign has become like a soap opera. Each night, people can see one episode and feel happy that the children of politicians are put behind bars.”\""
      ]
     },
     "execution_count": 117,
     "metadata": {},
     "output_type": "execute_result"
    }
   ],
   "source": [
    "article"
   ]
  },
  {
   "cell_type": "code",
   "execution_count": null,
   "metadata": {},
   "outputs": [],
   "source": []
  },
  {
   "cell_type": "code",
   "execution_count": 102,
   "metadata": {},
   "outputs": [
    {
     "data": {
      "text/plain": [
       "'Iran: hardliners’ anti-graft drive masks wider goals'"
      ]
     },
     "execution_count": 102,
     "metadata": {},
     "output_type": "execute_result"
    }
   ],
   "source": [
    "driver.find_elements_by_class_name('article-classifier__gap')[0].text"
   ]
  },
  {
   "cell_type": "code",
   "execution_count": 112,
   "metadata": {},
   "outputs": [],
   "source": [
    "driver .get('https://www.ft.com/content/59e751c0-e8f6-11e9-a240-3b065ef5fc55')"
   ]
  },
  {
   "cell_type": "code",
   "execution_count": 104,
   "metadata": {},
   "outputs": [],
   "source": [
    "a2 = driver.find_elements_by_class_name('article__content')[0].text"
   ]
  },
  {
   "cell_type": "code",
   "execution_count": 106,
   "metadata": {},
   "outputs": [
    {
     "data": {
      "text/plain": [
       "'Argentina’s economic woes spell doom for Macri’s election prospects'"
      ]
     },
     "execution_count": 106,
     "metadata": {},
     "output_type": "execute_result"
    }
   ],
   "source": [
    "driver.find_elements_by_class_name('article-classifier__gap')[0].text"
   ]
  },
  {
   "cell_type": "code",
   "execution_count": null,
   "metadata": {},
   "outputs": [],
   "source": [
    "<time class=\"article-info__timestamp o-date\" data-o-component=\"o-date\" datetime=\"2019-07-02T19:32:36Z\" data-o-date-js=\"\" title=\"July 2 2019 3:32 pm\" aria-label=\"July 2 2019\">July 2 2019</time>"
   ]
  },
  {
   "cell_type": "code",
   "execution_count": 109,
   "metadata": {},
   "outputs": [],
   "source": [
    "driver.get('https://www.ft.com/content/fdfbf65c-9370-11e9-b7ea-60e35ef678d2')"
   ]
  },
  {
   "cell_type": "code",
   "execution_count": null,
   "metadata": {},
   "outputs": [],
   "source": []
  },
  {
   "cell_type": "code",
   "execution_count": 110,
   "metadata": {},
   "outputs": [
    {
     "data": {
      "text/plain": [
       "[]"
      ]
     },
     "execution_count": 110,
     "metadata": {},
     "output_type": "execute_result"
    }
   ],
   "source": [
    "driver.find_elements_by_class_name('article-info__timestamp o-date')"
   ]
  },
  {
   "cell_type": "code",
   "execution_count": null,
   "metadata": {},
   "outputs": [],
   "source": [
    "datetime"
   ]
  },
  {
   "cell_type": "code",
   "execution_count": 113,
   "metadata": {},
   "outputs": [
    {
     "data": {
      "text/plain": [
       "'2019-10-13T09:01:16Z'"
      ]
     },
     "execution_count": 113,
     "metadata": {},
     "output_type": "execute_result"
    }
   ],
   "source": [
    "driver.find_element_by_css_selector('time').get_attribute('datetime')"
   ]
  },
  {
   "cell_type": "code",
   "execution_count": 114,
   "metadata": {},
   "outputs": [],
   "source": [
    "d = '2019-10-13T09:01:16Z'"
   ]
  },
  {
   "cell_type": "code",
   "execution_count": 115,
   "metadata": {},
   "outputs": [
    {
     "data": {
      "text/plain": [
       "10"
      ]
     },
     "execution_count": 115,
     "metadata": {},
     "output_type": "execute_result"
    }
   ],
   "source": [
    "d.find('T')"
   ]
  },
  {
   "cell_type": "code",
   "execution_count": 116,
   "metadata": {},
   "outputs": [
    {
     "data": {
      "text/plain": [
       "'2019-10-13'"
      ]
     },
     "execution_count": 116,
     "metadata": {},
     "output_type": "execute_result"
    }
   ],
   "source": [
    "d[0:10]"
   ]
  },
  {
   "cell_type": "markdown",
   "metadata": {},
   "source": [
    "## New code to scrape FT pages from URL list"
   ]
  },
  {
   "cell_type": "code",
   "execution_count": 119,
   "metadata": {},
   "outputs": [],
   "source": [
    "test = 'Najmeh Bozorgmehr in Tehran 21 HOURS AGO\\nPrint this page\\n26\\nIt wasn’t his “luxury” house that made Iranians sit'"
   ]
  },
  {
   "cell_type": "code",
   "execution_count": 140,
   "metadata": {},
   "outputs": [],
   "source": [
    "pat2 = r'^.*HOURS AGO\\\\nPrint this page'"
   ]
  },
  {
   "cell_type": "code",
   "execution_count": 160,
   "metadata": {},
   "outputs": [],
   "source": [
    "pat = r'\\w+.*\\\\nPrint this page'"
   ]
  },
  {
   "cell_type": "code",
   "execution_count": 149,
   "metadata": {},
   "outputs": [],
   "source": [
    "p = re.compile(pat)"
   ]
  },
  {
   "cell_type": "code",
   "execution_count": 150,
   "metadata": {},
   "outputs": [
    {
     "data": {
      "text/plain": [
       "'Najmeh Bozorgmehr in Tehran 21 HOURS AGO\\nPrint this page\\n26\\nIt wasn’t his “luxury” house that made Iranians sit'"
      ]
     },
     "execution_count": 150,
     "metadata": {},
     "output_type": "execute_result"
    }
   ],
   "source": [
    "p.sub('', test)"
   ]
  },
  {
   "cell_type": "code",
   "execution_count": 157,
   "metadata": {},
   "outputs": [
    {
     "data": {
      "text/plain": [
       "<re.Match object; span=(0, 56), match='Najmeh Bozorgmehr in Tehran 21 HOURS AGO\\nPrint t>"
      ]
     },
     "execution_count": 157,
     "metadata": {},
     "output_type": "execute_result"
    }
   ],
   "source": [
    "re.search('\\w+.*\\\\nPrint this page', test)"
   ]
  },
  {
   "cell_type": "code",
   "execution_count": 162,
   "metadata": {},
   "outputs": [],
   "source": [
    "m = re.match(pat, test)"
   ]
  },
  {
   "cell_type": "code",
   "execution_count": 172,
   "metadata": {},
   "outputs": [
    {
     "data": {
      "text/plain": [
       "'\\n26\\nIt wasn’t his “luxury” house that made Iranians sit'"
      ]
     },
     "execution_count": 172,
     "metadata": {},
     "output_type": "execute_result"
    }
   ],
   "source": [
    "re.sub('\\w+.*\\\\nPrint this page', '', test)"
   ]
  },
  {
   "cell_type": "code",
   "execution_count": 173,
   "metadata": {},
   "outputs": [],
   "source": [
    "pat = '\\w+.*\\\\nPrint this page'"
   ]
  },
  {
   "cell_type": "code",
   "execution_count": 174,
   "metadata": {},
   "outputs": [],
   "source": [
    "p = re.compile(pat)"
   ]
  },
  {
   "cell_type": "code",
   "execution_count": 175,
   "metadata": {},
   "outputs": [
    {
     "data": {
      "text/plain": [
       "'\\n26\\nIt wasn’t his “luxury” house that made Iranians sit'"
      ]
     },
     "execution_count": 175,
     "metadata": {},
     "output_type": "execute_result"
    }
   ],
   "source": [
    "p.sub('', test)"
   ]
  },
  {
   "cell_type": "code",
   "execution_count": 169,
   "metadata": {},
   "outputs": [
    {
     "data": {
      "text/plain": [
       "'Najmeh Bozorgmehr in Tehran 21 HOURS AGO\\nPrint this page\\n26\\nIt wasn’t his “luxury” house that made Iranians sit'"
      ]
     },
     "execution_count": 169,
     "metadata": {},
     "output_type": "execute_result"
    }
   ],
   "source": [
    "re.sub(pat, '', test)"
   ]
  },
  {
   "cell_type": "code",
   "execution_count": 182,
   "metadata": {},
   "outputs": [
    {
     "ename": "SyntaxError",
     "evalue": "(unicode error) 'unicodeescape' codec can't decode bytes in position 1175-1179: truncated \\uXXXX escape (<ipython-input-182-c5d46e2bbb3f>, line 1)",
     "output_type": "error",
     "traceback": [
      "\u001b[0;36m  File \u001b[0;32m\"<ipython-input-182-c5d46e2bbb3f>\"\u001b[0;36m, line \u001b[0;32m1\u001b[0m\n\u001b[0;31m    t = \"21\\nArgentina\\u2019s president Mauricio Macri sounded almost apologetic as     he addressed a crowd in the heart of the country\\u2019s Malbec wine-growing region, to make his case for another term.\\n\\u201cWe all know that recent tim    es have been difficult, especially the last year and a half\\u2009.\\u2009.\\u2009.\\u2009but I want to tell you that I have listened to you and I have unders    tood, I have taken note and I have comprehended.\\u201d\\n\\u201cNow something different is coming,\\u201d he added, promising a changed approach.\\nBut everyt    hing suggests that the \\u201csomething different\\u201d in store for Argentina is Mr Macri\\u2019s main opponent; Alberto Fern\\u00e1ndez, a leftwing Peronis    t running on a ticket with ex-president Cristina Fern\\u00e1ndez de Kirchner. He is the out-and-out favourite to win the election on October 27.\\nA second     consecutive year of recession, a sharp devaluation of the peso, a record-breaking $57bn IMF bailout, rising poverty and worsening unemployment would be di    re for any candidate seeking re-election. But for a scion of one of the country\\u2019s wealthiest families, they are especially toxic. Hence Mr Macri\\u201    9s contrition.\\nThe middle-class crowd of a few thousand gathered in a square in the city of Mendoza cheered dutifully and waved banners with the campaign     slogan \\u201cYes we can\\u201d as the president worked his way through a stump speech that lasted barely 20 minutes, his voice failing at times. His wife     Juliana Awada, clad in designer black, laid a comforting hand on his shoulder, exuding the effortless millionaire elegance that won her a Vogue \\u201cbest     dressed\\u201d acclamation. A drone hovered overhead gathering images for use on social media. The warm-up act came courtesy of the son of a soy baron.\\nR    ecommended\\nWeekend long reads\\nPoverty, priests and politics: why Peronism\"\u001b[0m\n\u001b[0m       ^\u001b[0m\n\u001b[0;31mSyntaxError\u001b[0m\u001b[0;31m:\u001b[0m (unicode error) 'unicodeescape' codec can't decode bytes in position 1175-1179: truncated \\uXXXX escape\n"
     ]
    }
   ],
   "source": [
    "t = \"21\\nArgentina\\u2019s president Mauricio Macri sounded almost apologetic as     he addressed a crowd in the heart of the country\\u2019s Malbec wine-growing region, to make his case for another term.\\n\\u201cWe all know that recent tim    es have been difficult, especially the last year and a half\\u2009.\\u2009.\\u2009.\\u2009but I want to tell you that I have listened to you and I have unders    tood, I have taken note and I have comprehended.\\u201d\\n\\u201cNow something different is coming,\\u201d he added, promising a changed approach.\\nBut everyt    hing suggests that the \\u201csomething different\\u201d in store for Argentina is Mr Macri\\u2019s main opponent; Alberto Fern\\u00e1ndez, a leftwing Peronis    t running on a ticket with ex-president Cristina Fern\\u00e1ndez de Kirchner. He is the out-and-out favourite to win the election on October 27.\\nA second     consecutive year of recession, a sharp devaluation of the peso, a record-breaking $57bn IMF bailout, rising poverty and worsening unemployment would be di    re for any candidate seeking re-election. But for a scion of one of the country\\u2019s wealthiest families, they are especially toxic. Hence Mr Macri\\u201    9s contrition.\\nThe middle-class crowd of a few thousand gathered in a square in the city of Mendoza cheered dutifully and waved banners with the campaign     slogan \\u201cYes we can\\u201d as the president worked his way through a stump speech that lasted barely 20 minutes, his voice failing at times. His wife     Juliana Awada, clad in designer black, laid a comforting hand on his shoulder, exuding the effortless millionaire elegance that won her a Vogue \\u201cbest     dressed\\u201d acclamation. A drone hovered overhead gathering images for use on social media. The warm-up act came courtesy of the son of a soy baron.\\nR    ecommended\\nWeekend long reads\\nPoverty, priests and politics: why Peronism\""
   ]
  },
  {
   "cell_type": "code",
   "execution_count": null,
   "metadata": {},
   "outputs": [],
   "source": []
  },
  {
   "cell_type": "code",
   "execution_count": null,
   "metadata": {},
   "outputs": [],
   "source": [
    "t"
   ]
  },
  {
   "cell_type": "code",
   "execution_count": null,
   "metadata": {},
   "outputs": [],
   "source": []
  },
  {
   "cell_type": "code",
   "execution_count": null,
   "metadata": {},
   "outputs": [],
   "source": []
  },
  {
   "cell_type": "code",
   "execution_count": 142,
   "metadata": {},
   "outputs": [],
   "source": [
    "p2 = re.compile(pat2)"
   ]
  },
  {
   "cell_type": "code",
   "execution_count": 143,
   "metadata": {},
   "outputs": [],
   "source": [
    "t2 = p2.sub('', test)"
   ]
  },
  {
   "cell_type": "code",
   "execution_count": 144,
   "metadata": {},
   "outputs": [
    {
     "data": {
      "text/plain": [
       "'Najmeh Bozorgmehr in Tehran 21 HOURS AGO\\nPrint this page\\n26\\nIt wasn’t his “luxury” house that made Iranians sit'"
      ]
     },
     "execution_count": 144,
     "metadata": {},
     "output_type": "execute_result"
    }
   ],
   "source": [
    "t2"
   ]
  },
  {
   "cell_type": "code",
   "execution_count": 139,
   "metadata": {},
   "outputs": [
    {
     "data": {
      "text/plain": [
       "'Najmeh Bozorgmehr in Tehran 21 HOURS AGO\\nPrint this page\\n26\\nIt wasn’t his “luxury” house that made Iranians sit'"
      ]
     },
     "execution_count": 139,
     "metadata": {},
     "output_type": "execute_result"
    }
   ],
   "source": [
    "test.strip()"
   ]
  },
  {
   "cell_type": "code",
   "execution_count": null,
   "metadata": {},
   "outputs": [],
   "source": []
  },
  {
   "cell_type": "code",
   "execution_count": 176,
   "metadata": {},
   "outputs": [],
   "source": [
    "def ft_scrape_pages(url_list, driver):\n",
    "    sleep_sequence = [x/10 for x in range(6, 19)]\n",
    "\n",
    "    section = 'World'\n",
    "\n",
    "    ft_data_file = 'ft_data.json'\n",
    "    \n",
    "    pat = '\\w+.*\\\\nPrint this page'\n",
    "    p = re.compile(pat)\n",
    "\n",
    "    with open(ft_data_file, 'a') as ft_data:\n",
    "        for url in url_list:\n",
    "            logging.info(f'Getting page to scrape: {url}')\n",
    "\n",
    "            if validators.url(url) != True: \n",
    "                logging.exception(f'URL is invalid!  URL: {url}')\n",
    "                continue\n",
    "\n",
    "            try:\n",
    "                # Use Selenium to scrape\n",
    "                driver.get(url)\n",
    "                \n",
    "                # get article\n",
    "                article = p.sub('', driver.find_elements_by_class_name('article__content')[0].text)\n",
    "                \n",
    "                # get date:\n",
    "                full_dt = driver.find_element_by_css_selector('time').get_attribute('datetime')\n",
    "                # remove timestamp portion following 'T': \"2019-10-13T09:01:16Z\"\n",
    "                dt = full_dt[0:full_dt.find('T')]\n",
    "                \n",
    "                # get headline\n",
    "                headline = driver.find_elements_by_class_name('article-classifier__gap')[0].text\n",
    "                \n",
    "                text_entry = dict(paper='FT',\n",
    "                                  date=dt,\n",
    "                                  section=section,\n",
    "                                  url=url,\n",
    "                                  headline=headline,\n",
    "                                  text=article.strip())\n",
    "\n",
    "                logging.info(f\"date: {dt} | section: {section} | url: {url} | headline: {headline} | text: {article[0:20]}\")\n",
    "\n",
    "                ft_data.write(json.dumps(text_entry))\n",
    "                ft_data.write('\\n')\n",
    "\n",
    "                # now sleep a random period of time\n",
    "                time.sleep(random.choice(sleep_sequence))\n",
    "\n",
    "            except Exception as err:\n",
    "                logging.exception(f'Other error occurred: {err}')\n",
    "                continue\n"
   ]
  },
  {
   "cell_type": "code",
   "execution_count": 177,
   "metadata": {},
   "outputs": [
    {
     "data": {
      "text/plain": [
       "6146"
      ]
     },
     "execution_count": 177,
     "metadata": {},
     "output_type": "execute_result"
    }
   ],
   "source": [
    "len(new_ft_url_list)"
   ]
  },
  {
   "cell_type": "code",
   "execution_count": 178,
   "metadata": {},
   "outputs": [],
   "source": [
    "test_url_list = new_ft_url_list[0:10]"
   ]
  },
  {
   "cell_type": "code",
   "execution_count": 183,
   "metadata": {},
   "outputs": [],
   "source": [
    "ft_scrape_pages(test_url_list, driver)"
   ]
  },
  {
   "cell_type": "code",
   "execution_count": 184,
   "metadata": {},
   "outputs": [],
   "source": [
    "ft_url_list = new_ft_url_list[11:2239]"
   ]
  },
  {
   "cell_type": "code",
   "execution_count": 185,
   "metadata": {},
   "outputs": [],
   "source": [
    "ft_scrape_pages(ft_url_list, driver)"
   ]
  },
  {
   "cell_type": "code",
   "execution_count": null,
   "metadata": {},
   "outputs": [],
   "source": []
  },
  {
   "cell_type": "markdown",
   "metadata": {},
   "source": [
    "## Main FT Article Scraping Driver Function"
   ]
  },
  {
   "cell_type": "code",
   "execution_count": 51,
   "metadata": {},
   "outputs": [],
   "source": [
    "def ft_scrape(month_list, driver): \n",
    "    sleep_sequence = [x/10 for x in range(6, 19)]\n",
    "\n",
    "    year = '2019'\n",
    "    section = 'World'\n",
    "\n",
    "    ft_archive_file = 'ft_url_archive.json'\n",
    "    ft_data_file = 'ft_data.json'\n",
    "\n",
    "    with open(ft_archive_file, 'a') as ft_archive, open(ft_data_file, 'a') as ft_data:\n",
    "        for month in month_list:\n",
    "            logging.info(f'Calling API for month: {month}')\n",
    "\n",
    "            # we already have October's url archive, so simply stub it to use\n",
    "            # it first for testing\n",
    "            ft_archive_dict_list = T_ft_get_month_archive(month, year)\n",
    "\n",
    "            ft_archive.write(json.dumps(ft_archive_dict_list))\n",
    "            ft_archive.write('\\n')\n",
    "\n",
    "            logging.info(f'Fetched {len(ft_archive_dict_list)} article URL entries')\n",
    "            logging.info('Fetching each article...')\n",
    "\n",
    "\n",
    "            for item in ft_archive_dict_list:\n",
    "                url = item['url']\n",
    "                logging.info(f'Getting page to scrape: {url}')\n",
    "\n",
    "                if validators.url(url) != True: \n",
    "                    logging.exception(f'URL is invalid!  URL: {url}')\n",
    "                    continue\n",
    "\n",
    "                try:\n",
    "                    # Use Selenium to scrape\n",
    "                    driver.get(url)\n",
    "                    article = driver.find_elements_by_class_name('article__content')[0].text\n",
    "                    dt = item['date']\n",
    "                    headline = item['summary']\n",
    "                    text_entry = dict(paper='FT',\n",
    "                                      date=dt,\n",
    "                                      section=section,\n",
    "                                      url=url,\n",
    "                                      headline=headline,\n",
    "                                      text=article.strip())\n",
    "\n",
    "                    logging.info(f\"date: {dt} | section: {section} | url: {url} | headline: {headline} | text: {article[0:20]}\")\n",
    "\n",
    "                    ft_data.write(json.dumps(text_entry))\n",
    "                    ft_data.write('\\n')\n",
    "\n",
    "                    # now sleep a random period of time\n",
    "                    time.sleep(random.choice(sleep_sequence))\n",
    "\n",
    "                except Exception as err:\n",
    "                    logging.exception(f'Other error occurred: {err}')\n",
    "                    continue\n"
   ]
  },
  {
   "cell_type": "code",
   "execution_count": null,
   "metadata": {},
   "outputs": [],
   "source": []
  },
  {
   "cell_type": "code",
   "execution_count": null,
   "metadata": {},
   "outputs": [],
   "source": []
  },
  {
   "cell_type": "code",
   "execution_count": null,
   "metadata": {},
   "outputs": [],
   "source": []
  },
  {
   "cell_type": "code",
   "execution_count": null,
   "metadata": {},
   "outputs": [],
   "source": []
  },
  {
   "cell_type": "code",
   "execution_count": 52,
   "metadata": {
    "collapsed": true
   },
   "outputs": [
    {
     "ename": "KeyboardInterrupt",
     "evalue": "",
     "output_type": "error",
     "traceback": [
      "\u001b[0;31m---------------------------------------------------------------------------\u001b[0m",
      "\u001b[0;31mTypeError\u001b[0m                                 Traceback (most recent call last)",
      "\u001b[0;32m~/anaconda3/lib/python3.7/site-packages/urllib3/connectionpool.py\u001b[0m in \u001b[0;36m_make_request\u001b[0;34m(self, conn, method, url, timeout, chunked, **httplib_request_kw)\u001b[0m\n\u001b[1;32m    376\u001b[0m             \u001b[0;32mtry\u001b[0m\u001b[0;34m:\u001b[0m  \u001b[0;31m# Python 2.7, use buffering of HTTP responses\u001b[0m\u001b[0;34m\u001b[0m\u001b[0;34m\u001b[0m\u001b[0m\n\u001b[0;32m--> 377\u001b[0;31m                 \u001b[0mhttplib_response\u001b[0m \u001b[0;34m=\u001b[0m \u001b[0mconn\u001b[0m\u001b[0;34m.\u001b[0m\u001b[0mgetresponse\u001b[0m\u001b[0;34m(\u001b[0m\u001b[0mbuffering\u001b[0m\u001b[0;34m=\u001b[0m\u001b[0;32mTrue\u001b[0m\u001b[0;34m)\u001b[0m\u001b[0;34m\u001b[0m\u001b[0;34m\u001b[0m\u001b[0m\n\u001b[0m\u001b[1;32m    378\u001b[0m             \u001b[0;32mexcept\u001b[0m \u001b[0mTypeError\u001b[0m\u001b[0;34m:\u001b[0m  \u001b[0;31m# Python 3\u001b[0m\u001b[0;34m\u001b[0m\u001b[0;34m\u001b[0m\u001b[0m\n",
      "\u001b[0;31mTypeError\u001b[0m: getresponse() got an unexpected keyword argument 'buffering'",
      "\nDuring handling of the above exception, another exception occurred:\n",
      "\u001b[0;31mKeyboardInterrupt\u001b[0m                         Traceback (most recent call last)",
      "\u001b[0;32m<ipython-input-52-df15a749f539>\u001b[0m in \u001b[0;36m<module>\u001b[0;34m\u001b[0m\n\u001b[0;32m----> 1\u001b[0;31m \u001b[0mft_scrape\u001b[0m\u001b[0;34m(\u001b[0m\u001b[0;34m[\u001b[0m\u001b[0;34m'9'\u001b[0m\u001b[0;34m]\u001b[0m\u001b[0;34m,\u001b[0m \u001b[0mdriver\u001b[0m\u001b[0;34m)\u001b[0m\u001b[0;34m\u001b[0m\u001b[0;34m\u001b[0m\u001b[0m\n\u001b[0m",
      "\u001b[0;32m<ipython-input-51-4c3b81f96df7>\u001b[0m in \u001b[0;36mft_scrape\u001b[0;34m(month_list, driver)\u001b[0m\n\u001b[1;32m     33\u001b[0m                 \u001b[0;32mtry\u001b[0m\u001b[0;34m:\u001b[0m\u001b[0;34m\u001b[0m\u001b[0;34m\u001b[0m\u001b[0m\n\u001b[1;32m     34\u001b[0m                     \u001b[0;31m# Use Selenium to scrape\u001b[0m\u001b[0;34m\u001b[0m\u001b[0;34m\u001b[0m\u001b[0;34m\u001b[0m\u001b[0m\n\u001b[0;32m---> 35\u001b[0;31m                     \u001b[0mdriver\u001b[0m\u001b[0;34m.\u001b[0m\u001b[0mget\u001b[0m\u001b[0;34m(\u001b[0m\u001b[0murl\u001b[0m\u001b[0;34m)\u001b[0m\u001b[0;34m\u001b[0m\u001b[0;34m\u001b[0m\u001b[0m\n\u001b[0m\u001b[1;32m     36\u001b[0m                     \u001b[0marticle\u001b[0m \u001b[0;34m=\u001b[0m \u001b[0mdriver\u001b[0m\u001b[0;34m.\u001b[0m\u001b[0mfind_elements_by_class_name\u001b[0m\u001b[0;34m(\u001b[0m\u001b[0;34m'article__content'\u001b[0m\u001b[0;34m)\u001b[0m\u001b[0;34m[\u001b[0m\u001b[0;36m0\u001b[0m\u001b[0;34m]\u001b[0m\u001b[0;34m.\u001b[0m\u001b[0mtext\u001b[0m\u001b[0;34m\u001b[0m\u001b[0;34m\u001b[0m\u001b[0m\n\u001b[1;32m     37\u001b[0m                     \u001b[0mdt\u001b[0m \u001b[0;34m=\u001b[0m \u001b[0mitem\u001b[0m\u001b[0;34m[\u001b[0m\u001b[0;34m'date'\u001b[0m\u001b[0;34m]\u001b[0m\u001b[0;34m\u001b[0m\u001b[0;34m\u001b[0m\u001b[0m\n",
      "\u001b[0;32m~/anaconda3/lib/python3.7/site-packages/selenium/webdriver/remote/webdriver.py\u001b[0m in \u001b[0;36mget\u001b[0;34m(self, url)\u001b[0m\n\u001b[1;32m    331\u001b[0m         \u001b[0mLoads\u001b[0m \u001b[0ma\u001b[0m \u001b[0mweb\u001b[0m \u001b[0mpage\u001b[0m \u001b[0;32min\u001b[0m \u001b[0mthe\u001b[0m \u001b[0mcurrent\u001b[0m \u001b[0mbrowser\u001b[0m \u001b[0msession\u001b[0m\u001b[0;34m.\u001b[0m\u001b[0;34m\u001b[0m\u001b[0;34m\u001b[0m\u001b[0m\n\u001b[1;32m    332\u001b[0m         \"\"\"\n\u001b[0;32m--> 333\u001b[0;31m         \u001b[0mself\u001b[0m\u001b[0;34m.\u001b[0m\u001b[0mexecute\u001b[0m\u001b[0;34m(\u001b[0m\u001b[0mCommand\u001b[0m\u001b[0;34m.\u001b[0m\u001b[0mGET\u001b[0m\u001b[0;34m,\u001b[0m \u001b[0;34m{\u001b[0m\u001b[0;34m'url'\u001b[0m\u001b[0;34m:\u001b[0m \u001b[0murl\u001b[0m\u001b[0;34m}\u001b[0m\u001b[0;34m)\u001b[0m\u001b[0;34m\u001b[0m\u001b[0;34m\u001b[0m\u001b[0m\n\u001b[0m\u001b[1;32m    334\u001b[0m \u001b[0;34m\u001b[0m\u001b[0m\n\u001b[1;32m    335\u001b[0m     \u001b[0;34m@\u001b[0m\u001b[0mproperty\u001b[0m\u001b[0;34m\u001b[0m\u001b[0;34m\u001b[0m\u001b[0m\n",
      "\u001b[0;32m~/anaconda3/lib/python3.7/site-packages/selenium/webdriver/remote/webdriver.py\u001b[0m in \u001b[0;36mexecute\u001b[0;34m(self, driver_command, params)\u001b[0m\n\u001b[1;32m    317\u001b[0m \u001b[0;34m\u001b[0m\u001b[0m\n\u001b[1;32m    318\u001b[0m         \u001b[0mparams\u001b[0m \u001b[0;34m=\u001b[0m \u001b[0mself\u001b[0m\u001b[0;34m.\u001b[0m\u001b[0m_wrap_value\u001b[0m\u001b[0;34m(\u001b[0m\u001b[0mparams\u001b[0m\u001b[0;34m)\u001b[0m\u001b[0;34m\u001b[0m\u001b[0;34m\u001b[0m\u001b[0m\n\u001b[0;32m--> 319\u001b[0;31m         \u001b[0mresponse\u001b[0m \u001b[0;34m=\u001b[0m \u001b[0mself\u001b[0m\u001b[0;34m.\u001b[0m\u001b[0mcommand_executor\u001b[0m\u001b[0;34m.\u001b[0m\u001b[0mexecute\u001b[0m\u001b[0;34m(\u001b[0m\u001b[0mdriver_command\u001b[0m\u001b[0;34m,\u001b[0m \u001b[0mparams\u001b[0m\u001b[0;34m)\u001b[0m\u001b[0;34m\u001b[0m\u001b[0;34m\u001b[0m\u001b[0m\n\u001b[0m\u001b[1;32m    320\u001b[0m         \u001b[0;32mif\u001b[0m \u001b[0mresponse\u001b[0m\u001b[0;34m:\u001b[0m\u001b[0;34m\u001b[0m\u001b[0;34m\u001b[0m\u001b[0m\n\u001b[1;32m    321\u001b[0m             \u001b[0mself\u001b[0m\u001b[0;34m.\u001b[0m\u001b[0merror_handler\u001b[0m\u001b[0;34m.\u001b[0m\u001b[0mcheck_response\u001b[0m\u001b[0;34m(\u001b[0m\u001b[0mresponse\u001b[0m\u001b[0;34m)\u001b[0m\u001b[0;34m\u001b[0m\u001b[0;34m\u001b[0m\u001b[0m\n",
      "\u001b[0;32m~/anaconda3/lib/python3.7/site-packages/selenium/webdriver/remote/remote_connection.py\u001b[0m in \u001b[0;36mexecute\u001b[0;34m(self, command, params)\u001b[0m\n\u001b[1;32m    372\u001b[0m         \u001b[0mdata\u001b[0m \u001b[0;34m=\u001b[0m \u001b[0mutils\u001b[0m\u001b[0;34m.\u001b[0m\u001b[0mdump_json\u001b[0m\u001b[0;34m(\u001b[0m\u001b[0mparams\u001b[0m\u001b[0;34m)\u001b[0m\u001b[0;34m\u001b[0m\u001b[0;34m\u001b[0m\u001b[0m\n\u001b[1;32m    373\u001b[0m         \u001b[0murl\u001b[0m \u001b[0;34m=\u001b[0m \u001b[0;34m'%s%s'\u001b[0m \u001b[0;34m%\u001b[0m \u001b[0;34m(\u001b[0m\u001b[0mself\u001b[0m\u001b[0;34m.\u001b[0m\u001b[0m_url\u001b[0m\u001b[0;34m,\u001b[0m \u001b[0mpath\u001b[0m\u001b[0;34m)\u001b[0m\u001b[0;34m\u001b[0m\u001b[0;34m\u001b[0m\u001b[0m\n\u001b[0;32m--> 374\u001b[0;31m         \u001b[0;32mreturn\u001b[0m \u001b[0mself\u001b[0m\u001b[0;34m.\u001b[0m\u001b[0m_request\u001b[0m\u001b[0;34m(\u001b[0m\u001b[0mcommand_info\u001b[0m\u001b[0;34m[\u001b[0m\u001b[0;36m0\u001b[0m\u001b[0;34m]\u001b[0m\u001b[0;34m,\u001b[0m \u001b[0murl\u001b[0m\u001b[0;34m,\u001b[0m \u001b[0mbody\u001b[0m\u001b[0;34m=\u001b[0m\u001b[0mdata\u001b[0m\u001b[0;34m)\u001b[0m\u001b[0;34m\u001b[0m\u001b[0;34m\u001b[0m\u001b[0m\n\u001b[0m\u001b[1;32m    375\u001b[0m \u001b[0;34m\u001b[0m\u001b[0m\n\u001b[1;32m    376\u001b[0m     \u001b[0;32mdef\u001b[0m \u001b[0m_request\u001b[0m\u001b[0;34m(\u001b[0m\u001b[0mself\u001b[0m\u001b[0;34m,\u001b[0m \u001b[0mmethod\u001b[0m\u001b[0;34m,\u001b[0m \u001b[0murl\u001b[0m\u001b[0;34m,\u001b[0m \u001b[0mbody\u001b[0m\u001b[0;34m=\u001b[0m\u001b[0;32mNone\u001b[0m\u001b[0;34m)\u001b[0m\u001b[0;34m:\u001b[0m\u001b[0;34m\u001b[0m\u001b[0;34m\u001b[0m\u001b[0m\n",
      "\u001b[0;32m~/anaconda3/lib/python3.7/site-packages/selenium/webdriver/remote/remote_connection.py\u001b[0m in \u001b[0;36m_request\u001b[0;34m(self, method, url, body)\u001b[0m\n\u001b[1;32m    395\u001b[0m \u001b[0;34m\u001b[0m\u001b[0m\n\u001b[1;32m    396\u001b[0m         \u001b[0;32mif\u001b[0m \u001b[0mself\u001b[0m\u001b[0;34m.\u001b[0m\u001b[0mkeep_alive\u001b[0m\u001b[0;34m:\u001b[0m\u001b[0;34m\u001b[0m\u001b[0;34m\u001b[0m\u001b[0m\n\u001b[0;32m--> 397\u001b[0;31m             \u001b[0mresp\u001b[0m \u001b[0;34m=\u001b[0m \u001b[0mself\u001b[0m\u001b[0;34m.\u001b[0m\u001b[0m_conn\u001b[0m\u001b[0;34m.\u001b[0m\u001b[0mrequest\u001b[0m\u001b[0;34m(\u001b[0m\u001b[0mmethod\u001b[0m\u001b[0;34m,\u001b[0m \u001b[0murl\u001b[0m\u001b[0;34m,\u001b[0m \u001b[0mbody\u001b[0m\u001b[0;34m=\u001b[0m\u001b[0mbody\u001b[0m\u001b[0;34m,\u001b[0m \u001b[0mheaders\u001b[0m\u001b[0;34m=\u001b[0m\u001b[0mheaders\u001b[0m\u001b[0;34m)\u001b[0m\u001b[0;34m\u001b[0m\u001b[0;34m\u001b[0m\u001b[0m\n\u001b[0m\u001b[1;32m    398\u001b[0m \u001b[0;34m\u001b[0m\u001b[0m\n\u001b[1;32m    399\u001b[0m             \u001b[0mstatuscode\u001b[0m \u001b[0;34m=\u001b[0m \u001b[0mresp\u001b[0m\u001b[0;34m.\u001b[0m\u001b[0mstatus\u001b[0m\u001b[0;34m\u001b[0m\u001b[0;34m\u001b[0m\u001b[0m\n",
      "\u001b[0;32m~/anaconda3/lib/python3.7/site-packages/urllib3/request.py\u001b[0m in \u001b[0;36mrequest\u001b[0;34m(self, method, url, fields, headers, **urlopen_kw)\u001b[0m\n\u001b[1;32m     70\u001b[0m             return self.request_encode_body(method, url, fields=fields,\n\u001b[1;32m     71\u001b[0m                                             \u001b[0mheaders\u001b[0m\u001b[0;34m=\u001b[0m\u001b[0mheaders\u001b[0m\u001b[0;34m,\u001b[0m\u001b[0;34m\u001b[0m\u001b[0;34m\u001b[0m\u001b[0m\n\u001b[0;32m---> 72\u001b[0;31m                                             **urlopen_kw)\n\u001b[0m\u001b[1;32m     73\u001b[0m \u001b[0;34m\u001b[0m\u001b[0m\n\u001b[1;32m     74\u001b[0m     def request_encode_url(self, method, url, fields=None, headers=None,\n",
      "\u001b[0;32m~/anaconda3/lib/python3.7/site-packages/urllib3/request.py\u001b[0m in \u001b[0;36mrequest_encode_body\u001b[0;34m(self, method, url, fields, headers, encode_multipart, multipart_boundary, **urlopen_kw)\u001b[0m\n\u001b[1;32m    148\u001b[0m         \u001b[0mextra_kw\u001b[0m\u001b[0;34m.\u001b[0m\u001b[0mupdate\u001b[0m\u001b[0;34m(\u001b[0m\u001b[0murlopen_kw\u001b[0m\u001b[0;34m)\u001b[0m\u001b[0;34m\u001b[0m\u001b[0;34m\u001b[0m\u001b[0m\n\u001b[1;32m    149\u001b[0m \u001b[0;34m\u001b[0m\u001b[0m\n\u001b[0;32m--> 150\u001b[0;31m         \u001b[0;32mreturn\u001b[0m \u001b[0mself\u001b[0m\u001b[0;34m.\u001b[0m\u001b[0murlopen\u001b[0m\u001b[0;34m(\u001b[0m\u001b[0mmethod\u001b[0m\u001b[0;34m,\u001b[0m \u001b[0murl\u001b[0m\u001b[0;34m,\u001b[0m \u001b[0;34m**\u001b[0m\u001b[0mextra_kw\u001b[0m\u001b[0;34m)\u001b[0m\u001b[0;34m\u001b[0m\u001b[0;34m\u001b[0m\u001b[0m\n\u001b[0m",
      "\u001b[0;32m~/anaconda3/lib/python3.7/site-packages/urllib3/poolmanager.py\u001b[0m in \u001b[0;36murlopen\u001b[0;34m(self, method, url, redirect, **kw)\u001b[0m\n\u001b[1;32m    322\u001b[0m             \u001b[0mresponse\u001b[0m \u001b[0;34m=\u001b[0m \u001b[0mconn\u001b[0m\u001b[0;34m.\u001b[0m\u001b[0murlopen\u001b[0m\u001b[0;34m(\u001b[0m\u001b[0mmethod\u001b[0m\u001b[0;34m,\u001b[0m \u001b[0murl\u001b[0m\u001b[0;34m,\u001b[0m \u001b[0;34m**\u001b[0m\u001b[0mkw\u001b[0m\u001b[0;34m)\u001b[0m\u001b[0;34m\u001b[0m\u001b[0;34m\u001b[0m\u001b[0m\n\u001b[1;32m    323\u001b[0m         \u001b[0;32melse\u001b[0m\u001b[0;34m:\u001b[0m\u001b[0;34m\u001b[0m\u001b[0;34m\u001b[0m\u001b[0m\n\u001b[0;32m--> 324\u001b[0;31m             \u001b[0mresponse\u001b[0m \u001b[0;34m=\u001b[0m \u001b[0mconn\u001b[0m\u001b[0;34m.\u001b[0m\u001b[0murlopen\u001b[0m\u001b[0;34m(\u001b[0m\u001b[0mmethod\u001b[0m\u001b[0;34m,\u001b[0m \u001b[0mu\u001b[0m\u001b[0;34m.\u001b[0m\u001b[0mrequest_uri\u001b[0m\u001b[0;34m,\u001b[0m \u001b[0;34m**\u001b[0m\u001b[0mkw\u001b[0m\u001b[0;34m)\u001b[0m\u001b[0;34m\u001b[0m\u001b[0;34m\u001b[0m\u001b[0m\n\u001b[0m\u001b[1;32m    325\u001b[0m \u001b[0;34m\u001b[0m\u001b[0m\n\u001b[1;32m    326\u001b[0m         \u001b[0mredirect_location\u001b[0m \u001b[0;34m=\u001b[0m \u001b[0mredirect\u001b[0m \u001b[0;32mand\u001b[0m \u001b[0mresponse\u001b[0m\u001b[0;34m.\u001b[0m\u001b[0mget_redirect_location\u001b[0m\u001b[0;34m(\u001b[0m\u001b[0;34m)\u001b[0m\u001b[0;34m\u001b[0m\u001b[0;34m\u001b[0m\u001b[0m\n",
      "\u001b[0;32m~/anaconda3/lib/python3.7/site-packages/urllib3/connectionpool.py\u001b[0m in \u001b[0;36murlopen\u001b[0;34m(self, method, url, body, headers, retries, redirect, assert_same_host, timeout, pool_timeout, release_conn, chunked, body_pos, **response_kw)\u001b[0m\n\u001b[1;32m    598\u001b[0m                                                   \u001b[0mtimeout\u001b[0m\u001b[0;34m=\u001b[0m\u001b[0mtimeout_obj\u001b[0m\u001b[0;34m,\u001b[0m\u001b[0;34m\u001b[0m\u001b[0;34m\u001b[0m\u001b[0m\n\u001b[1;32m    599\u001b[0m                                                   \u001b[0mbody\u001b[0m\u001b[0;34m=\u001b[0m\u001b[0mbody\u001b[0m\u001b[0;34m,\u001b[0m \u001b[0mheaders\u001b[0m\u001b[0;34m=\u001b[0m\u001b[0mheaders\u001b[0m\u001b[0;34m,\u001b[0m\u001b[0;34m\u001b[0m\u001b[0;34m\u001b[0m\u001b[0m\n\u001b[0;32m--> 600\u001b[0;31m                                                   chunked=chunked)\n\u001b[0m\u001b[1;32m    601\u001b[0m \u001b[0;34m\u001b[0m\u001b[0m\n\u001b[1;32m    602\u001b[0m             \u001b[0;31m# If we're going to release the connection in ``finally:``, then\u001b[0m\u001b[0;34m\u001b[0m\u001b[0;34m\u001b[0m\u001b[0;34m\u001b[0m\u001b[0m\n",
      "\u001b[0;32m~/anaconda3/lib/python3.7/site-packages/urllib3/connectionpool.py\u001b[0m in \u001b[0;36m_make_request\u001b[0;34m(self, conn, method, url, timeout, chunked, **httplib_request_kw)\u001b[0m\n\u001b[1;32m    378\u001b[0m             \u001b[0;32mexcept\u001b[0m \u001b[0mTypeError\u001b[0m\u001b[0;34m:\u001b[0m  \u001b[0;31m# Python 3\u001b[0m\u001b[0;34m\u001b[0m\u001b[0;34m\u001b[0m\u001b[0m\n\u001b[1;32m    379\u001b[0m                 \u001b[0;32mtry\u001b[0m\u001b[0;34m:\u001b[0m\u001b[0;34m\u001b[0m\u001b[0;34m\u001b[0m\u001b[0m\n\u001b[0;32m--> 380\u001b[0;31m                     \u001b[0mhttplib_response\u001b[0m \u001b[0;34m=\u001b[0m \u001b[0mconn\u001b[0m\u001b[0;34m.\u001b[0m\u001b[0mgetresponse\u001b[0m\u001b[0;34m(\u001b[0m\u001b[0;34m)\u001b[0m\u001b[0;34m\u001b[0m\u001b[0;34m\u001b[0m\u001b[0m\n\u001b[0m\u001b[1;32m    381\u001b[0m                 \u001b[0;32mexcept\u001b[0m \u001b[0mException\u001b[0m \u001b[0;32mas\u001b[0m \u001b[0me\u001b[0m\u001b[0;34m:\u001b[0m\u001b[0;34m\u001b[0m\u001b[0;34m\u001b[0m\u001b[0m\n\u001b[1;32m    382\u001b[0m                     \u001b[0;31m# Remove the TypeError from the exception chain in Python 3;\u001b[0m\u001b[0;34m\u001b[0m\u001b[0;34m\u001b[0m\u001b[0;34m\u001b[0m\u001b[0m\n",
      "\u001b[0;32m~/anaconda3/lib/python3.7/http/client.py\u001b[0m in \u001b[0;36mgetresponse\u001b[0;34m(self)\u001b[0m\n\u001b[1;32m   1319\u001b[0m         \u001b[0;32mtry\u001b[0m\u001b[0;34m:\u001b[0m\u001b[0;34m\u001b[0m\u001b[0;34m\u001b[0m\u001b[0m\n\u001b[1;32m   1320\u001b[0m             \u001b[0;32mtry\u001b[0m\u001b[0;34m:\u001b[0m\u001b[0;34m\u001b[0m\u001b[0;34m\u001b[0m\u001b[0m\n\u001b[0;32m-> 1321\u001b[0;31m                 \u001b[0mresponse\u001b[0m\u001b[0;34m.\u001b[0m\u001b[0mbegin\u001b[0m\u001b[0;34m(\u001b[0m\u001b[0;34m)\u001b[0m\u001b[0;34m\u001b[0m\u001b[0;34m\u001b[0m\u001b[0m\n\u001b[0m\u001b[1;32m   1322\u001b[0m             \u001b[0;32mexcept\u001b[0m \u001b[0mConnectionError\u001b[0m\u001b[0;34m:\u001b[0m\u001b[0;34m\u001b[0m\u001b[0;34m\u001b[0m\u001b[0m\n\u001b[1;32m   1323\u001b[0m                 \u001b[0mself\u001b[0m\u001b[0;34m.\u001b[0m\u001b[0mclose\u001b[0m\u001b[0;34m(\u001b[0m\u001b[0;34m)\u001b[0m\u001b[0;34m\u001b[0m\u001b[0;34m\u001b[0m\u001b[0m\n",
      "\u001b[0;32m~/anaconda3/lib/python3.7/http/client.py\u001b[0m in \u001b[0;36mbegin\u001b[0;34m(self)\u001b[0m\n\u001b[1;32m    294\u001b[0m         \u001b[0;31m# read until we get a non-100 response\u001b[0m\u001b[0;34m\u001b[0m\u001b[0;34m\u001b[0m\u001b[0;34m\u001b[0m\u001b[0m\n\u001b[1;32m    295\u001b[0m         \u001b[0;32mwhile\u001b[0m \u001b[0;32mTrue\u001b[0m\u001b[0;34m:\u001b[0m\u001b[0;34m\u001b[0m\u001b[0;34m\u001b[0m\u001b[0m\n\u001b[0;32m--> 296\u001b[0;31m             \u001b[0mversion\u001b[0m\u001b[0;34m,\u001b[0m \u001b[0mstatus\u001b[0m\u001b[0;34m,\u001b[0m \u001b[0mreason\u001b[0m \u001b[0;34m=\u001b[0m \u001b[0mself\u001b[0m\u001b[0;34m.\u001b[0m\u001b[0m_read_status\u001b[0m\u001b[0;34m(\u001b[0m\u001b[0;34m)\u001b[0m\u001b[0;34m\u001b[0m\u001b[0;34m\u001b[0m\u001b[0m\n\u001b[0m\u001b[1;32m    297\u001b[0m             \u001b[0;32mif\u001b[0m \u001b[0mstatus\u001b[0m \u001b[0;34m!=\u001b[0m \u001b[0mCONTINUE\u001b[0m\u001b[0;34m:\u001b[0m\u001b[0;34m\u001b[0m\u001b[0;34m\u001b[0m\u001b[0m\n\u001b[1;32m    298\u001b[0m                 \u001b[0;32mbreak\u001b[0m\u001b[0;34m\u001b[0m\u001b[0;34m\u001b[0m\u001b[0m\n",
      "\u001b[0;32m~/anaconda3/lib/python3.7/http/client.py\u001b[0m in \u001b[0;36m_read_status\u001b[0;34m(self)\u001b[0m\n\u001b[1;32m    255\u001b[0m \u001b[0;34m\u001b[0m\u001b[0m\n\u001b[1;32m    256\u001b[0m     \u001b[0;32mdef\u001b[0m \u001b[0m_read_status\u001b[0m\u001b[0;34m(\u001b[0m\u001b[0mself\u001b[0m\u001b[0;34m)\u001b[0m\u001b[0;34m:\u001b[0m\u001b[0;34m\u001b[0m\u001b[0;34m\u001b[0m\u001b[0m\n\u001b[0;32m--> 257\u001b[0;31m         \u001b[0mline\u001b[0m \u001b[0;34m=\u001b[0m \u001b[0mstr\u001b[0m\u001b[0;34m(\u001b[0m\u001b[0mself\u001b[0m\u001b[0;34m.\u001b[0m\u001b[0mfp\u001b[0m\u001b[0;34m.\u001b[0m\u001b[0mreadline\u001b[0m\u001b[0;34m(\u001b[0m\u001b[0m_MAXLINE\u001b[0m \u001b[0;34m+\u001b[0m \u001b[0;36m1\u001b[0m\u001b[0;34m)\u001b[0m\u001b[0;34m,\u001b[0m \u001b[0;34m\"iso-8859-1\"\u001b[0m\u001b[0;34m)\u001b[0m\u001b[0;34m\u001b[0m\u001b[0;34m\u001b[0m\u001b[0m\n\u001b[0m\u001b[1;32m    258\u001b[0m         \u001b[0;32mif\u001b[0m \u001b[0mlen\u001b[0m\u001b[0;34m(\u001b[0m\u001b[0mline\u001b[0m\u001b[0;34m)\u001b[0m \u001b[0;34m>\u001b[0m \u001b[0m_MAXLINE\u001b[0m\u001b[0;34m:\u001b[0m\u001b[0;34m\u001b[0m\u001b[0;34m\u001b[0m\u001b[0m\n\u001b[1;32m    259\u001b[0m             \u001b[0;32mraise\u001b[0m \u001b[0mLineTooLong\u001b[0m\u001b[0;34m(\u001b[0m\u001b[0;34m\"status line\"\u001b[0m\u001b[0;34m)\u001b[0m\u001b[0;34m\u001b[0m\u001b[0;34m\u001b[0m\u001b[0m\n",
      "\u001b[0;32m~/anaconda3/lib/python3.7/socket.py\u001b[0m in \u001b[0;36mreadinto\u001b[0;34m(self, b)\u001b[0m\n\u001b[1;32m    587\u001b[0m         \u001b[0;32mwhile\u001b[0m \u001b[0;32mTrue\u001b[0m\u001b[0;34m:\u001b[0m\u001b[0;34m\u001b[0m\u001b[0;34m\u001b[0m\u001b[0m\n\u001b[1;32m    588\u001b[0m             \u001b[0;32mtry\u001b[0m\u001b[0;34m:\u001b[0m\u001b[0;34m\u001b[0m\u001b[0;34m\u001b[0m\u001b[0m\n\u001b[0;32m--> 589\u001b[0;31m                 \u001b[0;32mreturn\u001b[0m \u001b[0mself\u001b[0m\u001b[0;34m.\u001b[0m\u001b[0m_sock\u001b[0m\u001b[0;34m.\u001b[0m\u001b[0mrecv_into\u001b[0m\u001b[0;34m(\u001b[0m\u001b[0mb\u001b[0m\u001b[0;34m)\u001b[0m\u001b[0;34m\u001b[0m\u001b[0;34m\u001b[0m\u001b[0m\n\u001b[0m\u001b[1;32m    590\u001b[0m             \u001b[0;32mexcept\u001b[0m \u001b[0mtimeout\u001b[0m\u001b[0;34m:\u001b[0m\u001b[0;34m\u001b[0m\u001b[0;34m\u001b[0m\u001b[0m\n\u001b[1;32m    591\u001b[0m                 \u001b[0mself\u001b[0m\u001b[0;34m.\u001b[0m\u001b[0m_timeout_occurred\u001b[0m \u001b[0;34m=\u001b[0m \u001b[0;32mTrue\u001b[0m\u001b[0;34m\u001b[0m\u001b[0;34m\u001b[0m\u001b[0m\n",
      "\u001b[0;31mKeyboardInterrupt\u001b[0m: "
     ]
    }
   ],
   "source": [
    "ft_scrape(['9'], driver)"
   ]
  },
  {
   "cell_type": "code",
   "execution_count": null,
   "metadata": {},
   "outputs": [],
   "source": []
  },
  {
   "cell_type": "code",
   "execution_count": null,
   "metadata": {},
   "outputs": [],
   "source": []
  },
  {
   "cell_type": "code",
   "execution_count": 55,
   "metadata": {},
   "outputs": [],
   "source": [
    "driver.quit()"
   ]
  },
  {
   "cell_type": "code",
   "execution_count": null,
   "metadata": {},
   "outputs": [],
   "source": []
  }
 ],
 "metadata": {
  "kernelspec": {
   "display_name": "Python 3",
   "language": "python",
   "name": "python3"
  },
  "language_info": {
   "codemirror_mode": {
    "name": "ipython",
    "version": 3
   },
   "file_extension": ".py",
   "mimetype": "text/x-python",
   "name": "python",
   "nbconvert_exporter": "python",
   "pygments_lexer": "ipython3",
   "version": "3.7.3"
  }
 },
 "nbformat": 4,
 "nbformat_minor": 2
}
