{
 "cells": [
  {
   "cell_type": "code",
   "execution_count": 1,
   "metadata": {},
   "outputs": [],
   "source": [
    "import pickle"
   ]
  },
  {
   "cell_type": "code",
   "execution_count": 2,
   "metadata": {},
   "outputs": [],
   "source": [
    "d = {'mark':1, 'sarah':2}"
   ]
  },
  {
   "cell_type": "code",
   "execution_count": 4,
   "metadata": {},
   "outputs": [],
   "source": [
    "l = []"
   ]
  },
  {
   "cell_type": "code",
   "execution_count": 5,
   "metadata": {},
   "outputs": [],
   "source": [
    "l.append(d)"
   ]
  },
  {
   "cell_type": "code",
   "execution_count": 6,
   "metadata": {},
   "outputs": [
    {
     "data": {
      "text/plain": [
       "[{'mark': 1, 'sarah': 2}]"
      ]
     },
     "execution_count": 6,
     "metadata": {},
     "output_type": "execute_result"
    }
   ],
   "source": [
    "l"
   ]
  },
  {
   "cell_type": "code",
   "execution_count": 7,
   "metadata": {},
   "outputs": [],
   "source": [
    "with open('test.pkl', 'wb') as f:\n",
    "    pickle.dump(l, f)"
   ]
  },
  {
   "cell_type": "code",
   "execution_count": 8,
   "metadata": {},
   "outputs": [],
   "source": [
    "d1 = {'ceci':3, 'toby':4}"
   ]
  },
  {
   "cell_type": "code",
   "execution_count": 9,
   "metadata": {},
   "outputs": [
    {
     "data": {
      "text/plain": [
       "[{'mark': 1, 'sarah': 2}]"
      ]
     },
     "execution_count": 9,
     "metadata": {},
     "output_type": "execute_result"
    }
   ],
   "source": [
    "l"
   ]
  },
  {
   "cell_type": "code",
   "execution_count": null,
   "metadata": {},
   "outputs": [],
   "source": []
  },
  {
   "cell_type": "code",
   "execution_count": null,
   "metadata": {},
   "outputs": [],
   "source": []
  },
  {
   "cell_type": "code",
   "execution_count": 10,
   "metadata": {},
   "outputs": [],
   "source": [
    "l.append(d1)"
   ]
  },
  {
   "cell_type": "code",
   "execution_count": 11,
   "metadata": {},
   "outputs": [
    {
     "data": {
      "text/plain": [
       "[{'mark': 1, 'sarah': 2}, {'ceci': 3, 'toby': 4}]"
      ]
     },
     "execution_count": 11,
     "metadata": {},
     "output_type": "execute_result"
    }
   ],
   "source": [
    "l"
   ]
  },
  {
   "cell_type": "code",
   "execution_count": 26,
   "metadata": {},
   "outputs": [],
   "source": [
    "with open('test.pkl', 'wb') as f:\n",
    "    pickle.dump(d, f)"
   ]
  },
  {
   "cell_type": "code",
   "execution_count": 27,
   "metadata": {},
   "outputs": [],
   "source": [
    "with open('test.pkl', 'ab') as f:\n",
    "    pickle.dump(d1, f)"
   ]
  },
  {
   "cell_type": "code",
   "execution_count": 14,
   "metadata": {},
   "outputs": [],
   "source": [
    "with open('test.pkl', 'rb') as f:\n",
    "    some_d = pickle.load(f)"
   ]
  },
  {
   "cell_type": "code",
   "execution_count": 15,
   "metadata": {},
   "outputs": [
    {
     "data": {
      "text/plain": [
       "{'ceci': 3, 'toby': 4}"
      ]
     },
     "execution_count": 15,
     "metadata": {},
     "output_type": "execute_result"
    }
   ],
   "source": [
    "some_d"
   ]
  },
  {
   "cell_type": "code",
   "execution_count": 28,
   "metadata": {},
   "outputs": [],
   "source": [
    "with open('test.pkl', 'rb') as f:\n",
    "    objs = []\n",
    "    while 1:\n",
    "        try:\n",
    "            objs.append(pickle.load(f))\n",
    "        except EOFError:\n",
    "            break"
   ]
  },
  {
   "cell_type": "code",
   "execution_count": 29,
   "metadata": {},
   "outputs": [
    {
     "data": {
      "text/plain": [
       "[{'mark': 1, 'sarah': 2}, {'ceci': 3, 'toby': 4}]"
      ]
     },
     "execution_count": 29,
     "metadata": {},
     "output_type": "execute_result"
    }
   ],
   "source": [
    "objs"
   ]
  },
  {
   "cell_type": "code",
   "execution_count": 30,
   "metadata": {},
   "outputs": [],
   "source": [
    "with open('nyt_test_articles.pkl', 'rb') as f:\n",
    "    nyt_data = pickle.load(f)"
   ]
  },
  {
   "cell_type": "code",
   "execution_count": 32,
   "metadata": {},
   "outputs": [
    {
     "data": {
      "text/plain": [
       "555"
      ]
     },
     "execution_count": 32,
     "metadata": {},
     "output_type": "execute_result"
    }
   ],
   "source": [
    "len(nyt_data)"
   ]
  },
  {
   "cell_type": "code",
   "execution_count": 33,
   "metadata": {},
   "outputs": [
    {
     "data": {
      "text/plain": [
       "list"
      ]
     },
     "execution_count": 33,
     "metadata": {},
     "output_type": "execute_result"
    }
   ],
   "source": [
    "type(nyt_data)"
   ]
  },
  {
   "cell_type": "code",
   "execution_count": 34,
   "metadata": {},
   "outputs": [],
   "source": [
    "with open('nyt_data.pkl', 'ab') as f:\n",
    "    for item in nyt_data:\n",
    "        pickle.dump(item, f)"
   ]
  },
  {
   "cell_type": "code",
   "execution_count": 35,
   "metadata": {},
   "outputs": [],
   "source": [
    "with open('nyt_data.pkl', 'rb') as f:\n",
    "    objs = []\n",
    "    while 1:\n",
    "        try:\n",
    "            objs.append(pickle.load(f))\n",
    "        except EOFError:\n",
    "            break"
   ]
  },
  {
   "cell_type": "code",
   "execution_count": 36,
   "metadata": {},
   "outputs": [
    {
     "data": {
      "text/plain": [
       "list"
      ]
     },
     "execution_count": 36,
     "metadata": {},
     "output_type": "execute_result"
    }
   ],
   "source": [
    "type(objs)"
   ]
  },
  {
   "cell_type": "code",
   "execution_count": 37,
   "metadata": {},
   "outputs": [
    {
     "data": {
      "text/plain": [
       "555"
      ]
     },
     "execution_count": 37,
     "metadata": {},
     "output_type": "execute_result"
    }
   ],
   "source": [
    "len(objs)"
   ]
  },
  {
   "cell_type": "code",
   "execution_count": 38,
   "metadata": {},
   "outputs": [],
   "source": [
    "from urllib.parse import urlparse"
   ]
  },
  {
   "cell_type": "code",
   "execution_count": 39,
   "metadata": {},
   "outputs": [
    {
     "data": {
      "text/plain": [
       "ParseResult(scheme='http', netloc='nytimes.comn', path='', params='', query='', fragment='')"
      ]
     },
     "execution_count": 39,
     "metadata": {},
     "output_type": "execute_result"
    }
   ],
   "source": [
    "urlparse('http://nytimes.comn')"
   ]
  },
  {
   "cell_type": "code",
   "execution_count": 40,
   "metadata": {},
   "outputs": [],
   "source": [
    "p = urlparse('http://nytimes.comn')"
   ]
  },
  {
   "cell_type": "code",
   "execution_count": 42,
   "metadata": {},
   "outputs": [
    {
     "data": {
      "text/plain": [
       "'http'"
      ]
     },
     "execution_count": 42,
     "metadata": {},
     "output_type": "execute_result"
    }
   ],
   "source": [
    "p.scheme"
   ]
  },
  {
   "cell_type": "code",
   "execution_count": 44,
   "metadata": {},
   "outputs": [
    {
     "name": "stdout",
     "output_type": "stream",
     "text": [
      "Collecting validators\n",
      "  Downloading https://files.pythonhosted.org/packages/b2/b7/5fc43b7dba2a35362b2f5ce39dbee835c48898e2458910c3af810240fbaa/validators-0.14.0.tar.gz\n",
      "Requirement already satisfied: six>=1.4.0 in /Users/markbrennan/anaconda3/lib/python3.7/site-packages (from validators) (1.12.0)\n",
      "Requirement already satisfied: decorator>=3.4.0 in /Users/markbrennan/anaconda3/lib/python3.7/site-packages (from validators) (4.4.0)\n",
      "Building wheels for collected packages: validators\n",
      "  Building wheel for validators (setup.py) ... \u001b[?25ldone\n",
      "\u001b[?25h  Stored in directory: /Users/markbrennan/Library/Caches/pip/wheels/52/ad/d4/c5ddfd117381a9c46fdc4a1d15eb688a81e6e821f5c69d9056\n",
      "Successfully built validators\n",
      "Installing collected packages: validators\n",
      "Successfully installed validators-0.14.0\n"
     ]
    }
   ],
   "source": [
    "!pip install validators"
   ]
  },
  {
   "cell_type": "code",
   "execution_count": 45,
   "metadata": {},
   "outputs": [
    {
     "data": {
      "text/plain": [
       "True"
      ]
     },
     "execution_count": 45,
     "metadata": {},
     "output_type": "execute_result"
    }
   ],
   "source": [
    "import validators\n",
    "url = 'http://nytimes.com'\n",
    "validators.url(url)\n"
   ]
  },
  {
   "cell_type": "code",
   "execution_count": 46,
   "metadata": {},
   "outputs": [
    {
     "data": {
      "text/plain": [
       "ValidationFailure(func=url, args={'value': 'http://blah', 'public': False})"
      ]
     },
     "execution_count": 46,
     "metadata": {},
     "output_type": "execute_result"
    }
   ],
   "source": [
    "validators.url('http://blah')"
   ]
  },
  {
   "cell_type": "code",
   "execution_count": 47,
   "metadata": {},
   "outputs": [
    {
     "data": {
      "text/plain": [
       "True"
      ]
     },
     "execution_count": 47,
     "metadata": {},
     "output_type": "execute_result"
    }
   ],
   "source": [
    "validators.url('http://nytimes.com')"
   ]
  },
  {
   "cell_type": "code",
   "execution_count": 49,
   "metadata": {},
   "outputs": [],
   "source": [
    "r = validators.url('some crap')"
   ]
  },
  {
   "cell_type": "code",
   "execution_count": 50,
   "metadata": {},
   "outputs": [
    {
     "data": {
      "text/plain": [
       "'some crap'"
      ]
     },
     "execution_count": 50,
     "metadata": {},
     "output_type": "execute_result"
    }
   ],
   "source": [
    "r.value"
   ]
  },
  {
   "cell_type": "code",
   "execution_count": 54,
   "metadata": {},
   "outputs": [
    {
     "data": {
      "text/plain": [
       "'http://nytimes.com'"
      ]
     },
     "execution_count": 54,
     "metadata": {},
     "output_type": "execute_result"
    }
   ],
   "source": [
    "url"
   ]
  },
  {
   "cell_type": "code",
   "execution_count": null,
   "metadata": {},
   "outputs": [],
   "source": []
  },
  {
   "cell_type": "code",
   "execution_count": 57,
   "metadata": {},
   "outputs": [
    {
     "name": "stdout",
     "output_type": "stream",
     "text": [
      "true!\n"
     ]
    }
   ],
   "source": [
    "if validators.url(url) == True:\n",
    "    print('true!')"
   ]
  },
  {
   "cell_type": "code",
   "execution_count": 60,
   "metadata": {},
   "outputs": [],
   "source": [
    "with open ('test-file', 'a') as f:\n",
    "    f.write('some text')"
   ]
  },
  {
   "cell_type": "code",
   "execution_count": 61,
   "metadata": {},
   "outputs": [],
   "source": [
    " with open('test-file', 'a') as f:\n",
    "    f.write('more text')"
   ]
  },
  {
   "cell_type": "markdown",
   "metadata": {},
   "source": [
    "## Try out scraping Reuters!"
   ]
  },
  {
   "cell_type": "code",
   "execution_count": 198,
   "metadata": {},
   "outputs": [],
   "source": [
    "import requests\n",
    "import pandas as pd\n",
    "import numpy as np\n",
    "import json\n",
    "from bs4 import BeautifulSoup\n",
    "import config\n",
    "import logging\n",
    "import importlib\n",
    "import re\n",
    "import pickle\n",
    "import datetime"
   ]
  },
  {
   "cell_type": "code",
   "execution_count": 63,
   "metadata": {},
   "outputs": [],
   "source": [
    "url = 'https://www.reuters.com/news/archive/worldNews'"
   ]
  },
  {
   "cell_type": "code",
   "execution_count": 64,
   "metadata": {},
   "outputs": [],
   "source": [
    "response = requests.get(url)"
   ]
  },
  {
   "cell_type": "code",
   "execution_count": 65,
   "metadata": {},
   "outputs": [],
   "source": [
    "soup = BeautifulSoup(response.content, 'html.parser')"
   ]
  },
  {
   "cell_type": "code",
   "execution_count": 66,
   "metadata": {},
   "outputs": [],
   "source": [
    "headline_list = soup.find('div', class_='news-headline-list')"
   ]
  },
  {
   "cell_type": "code",
   "execution_count": 70,
   "metadata": {
    "collapsed": true
   },
   "outputs": [
    {
     "data": {
      "text/plain": [
       "<div class=\"news-headline-list\">\n",
       "<article class=\"story\">\n",
       "<div class=\"story-photo lazy-photo\">\n",
       "<a href=\"/article/us-syria-security-turkey-usa/turkish-led-forces-advance-into-syrian-border-town-fighting-rages-idUSKBN1WR04D\">\n",
       "<img alt=\"\" border=\"0\" org-src=\"https://s4.reutersmedia.net/resources/r/?m=02&amp;d=20191012&amp;t=2&amp;i=1440105919&amp;w=200&amp;fh=&amp;fw=&amp;ll=&amp;pl=&amp;sq=&amp;r=LYNXMPEF9B0HU\" src=\"https://s1.reutersmedia.net/resources_v2/images/1x1.png\"/>\n",
       "</a>\n",
       "</div><div class=\"story-content\">\n",
       "<a href=\"/article/us-syria-security-turkey-usa/turkish-led-forces-advance-into-syrian-border-town-fighting-rages-idUSKBN1WR04D\">\n",
       "<h3 class=\"story-title\">\n",
       "\t\t\t\t\t\t\t\tTurkish-led forces advance into Syrian border town, fighting rages</h3>\n",
       "</a>\n",
       "<div class=\"contributor\"></div>\n",
       "<p>Turkish-backed Syrian rebels advanced into Ras al Ain in northeast Syria on Saturday but it was unclear how far, with Turkey saying the town center had been taken and Kurdish-led forces denying this and saying they were counter-attacking.</p>\n",
       "<time class=\"article-time\">\n",
       "<span class=\"timestamp\">2:45pm EDT</span>\n",
       "</time>\n",
       "</div>\n",
       "</article>\n",
       "<article class=\"story\">\n",
       "<div class=\"story-photo lazy-photo\">\n",
       "<a href=\"/article/us-syria-security-greece-kurds/kurds-march-in-paris-and-athens-to-protest-turkish-incursion-into-syria-idUSKBN1WR0JY\">\n",
       "<img alt=\"\" border=\"0\" org-src=\"https://s3.reutersmedia.net/resources/r/?m=02&amp;d=20191012&amp;t=2&amp;i=1440133973&amp;w=200&amp;fh=&amp;fw=&amp;ll=&amp;pl=&amp;sq=&amp;r=LYNXMPEF9B0K5\" src=\"https://s1.reutersmedia.net/resources_v2/images/1x1.png\"/>\n",
       "</a>\n",
       "</div><div class=\"story-content\">\n",
       "<a href=\"/article/us-syria-security-greece-kurds/kurds-march-in-paris-and-athens-to-protest-turkish-incursion-into-syria-idUSKBN1WR0JY\">\n",
       "<h3 class=\"story-title\">\n",
       "\t\t\t\t\t\t\t\tKurds march in Paris and Athens to protest Turkish incursion into Syria</h3>\n",
       "</a>\n",
       "<div class=\"contributor\"></div>\n",
       "<p>Thousands of Kurds and their local supporters rallied in France and in Greece on Saturday to protest against Turkey's military action in northeast Syria.</p>\n",
       "<time class=\"article-time\">\n",
       "<span class=\"timestamp\">2:45pm EDT</span>\n",
       "</time>\n",
       "</div>\n",
       "</article>\n",
       "<article class=\"story\">\n",
       "<div class=\"story-photo lazy-photo\">\n",
       "<a href=\"/article/us-ecuador-protests/protest-leaders-in-ecuador-accept-talks-with-government-as-unrest-roils-capital-idUSKBN1WR0JA\">\n",
       "<img alt=\"\" border=\"0\" org-src=\"https://s4.reutersmedia.net/resources/r/?m=02&amp;d=20191012&amp;t=2&amp;i=1440118840&amp;w=200&amp;fh=&amp;fw=&amp;ll=&amp;pl=&amp;sq=&amp;r=LYNXMPEF9B0IR\" src=\"https://s1.reutersmedia.net/resources_v2/images/1x1.png\"/>\n",
       "</a>\n",
       "</div><div class=\"story-content\">\n",
       "<a href=\"/article/us-ecuador-protests/protest-leaders-in-ecuador-accept-talks-with-government-as-unrest-roils-capital-idUSKBN1WR0JA\">\n",
       "<h3 class=\"story-title\">\n",
       "\t\t\t\t\t\t\t\tProtest leaders in Ecuador accept talks with government as unrest roils capital</h3>\n",
       "</a>\n",
       "<div class=\"contributor\"></div>\n",
       "<p>An indigenous group in Ecuador that has led massive protests to reinstate a fuel subsidy said on Saturday that it has decided to hold direct talks with President Lenin Moreno, the first sign of a potential breakthrough in a dispute that has triggered more than a week of unrest.</p>\n",
       "<time class=\"article-time\">\n",
       "<span class=\"timestamp\">2:35pm EDT</span>\n",
       "</time>\n",
       "</div>\n",
       "</article>\n",
       "<article class=\"story\">\n",
       "<div class=\"story-photo\">\n",
       "<a href=\"/article/us-mideast-iran-saudi-pakistan/iran-says-ready-for-talks-with-saudi-with-or-without-mediation-idUSKBN1WR0F8\">\n",
       "<img alt=\"\" border=\"0\" class=\"placeholder-image\" src=\"https://s1.reutersmedia.net/resources_v2/images/1x1.png\"/>\n",
       "</a>\n",
       "</div><div class=\"story-content\">\n",
       "<a href=\"/article/us-mideast-iran-saudi-pakistan/iran-says-ready-for-talks-with-saudi-with-or-without-mediation-idUSKBN1WR0F8\">\n",
       "<h3 class=\"story-title\">\n",
       "\t\t\t\t\t\t\t\tIran says ready for talks with Saudi, with or without mediation</h3>\n",
       "</a>\n",
       "<div class=\"contributor\"></div>\n",
       "<p>Iran is prepared to hold talks with regional rival Saudi Arabia with or without the help of a mediator, the Iranian Foreign Ministry said on Saturday, ahead of a visit by Pakistani Prime Minister Imran Khan.</p>\n",
       "<time class=\"article-time\">\n",
       "<span class=\"timestamp\">2:34pm EDT</span>\n",
       "</time>\n",
       "</div>\n",
       "</article>\n",
       "<article class=\"story\">\n",
       "<div class=\"story-photo lazy-photo\">\n",
       "<a href=\"/article/us-ecuador-protests-talks/ecuadorean-indigenous-group-announces-direct-talks-with-moreno-idUSKBN1WR0K0\">\n",
       "<img alt=\"\" border=\"0\" org-src=\"https://s2.reutersmedia.net/resources/r/?m=02&amp;d=20191012&amp;t=2&amp;i=1440126393&amp;w=200&amp;fh=&amp;fw=&amp;ll=&amp;pl=&amp;sq=&amp;r=LYNXMPEF9B0JF\" src=\"https://s1.reutersmedia.net/resources_v2/images/1x1.png\"/>\n",
       "</a>\n",
       "</div><div class=\"story-content\">\n",
       "<a href=\"/article/us-ecuador-protests-talks/ecuadorean-indigenous-group-announces-direct-talks-with-moreno-idUSKBN1WR0K0\">\n",
       "<h3 class=\"story-title\">\n",
       "\t\t\t\t\t\t\t\tEcuadorean indigenous group announces direct talks with Moreno</h3>\n",
       "</a>\n",
       "<div class=\"contributor\"></div>\n",
       "<p>An indigenous group in Ecuador that has led massive protests to reinstate a fuel subsidy announced on Saturday that it has decided to hold direct talks with President Lenin Moreno, the first sign of a potential breakthrough in a dispute that has triggered more than a week of unrest.</p>\n",
       "<time class=\"article-time\">\n",
       "<span class=\"timestamp\">2:10pm EDT</span>\n",
       "</time>\n",
       "</div>\n",
       "</article>\n",
       "<article class=\"story\">\n",
       "<div class=\"story-photo lazy-photo\">\n",
       "<a href=\"/article/us-saudi-aramco-attacks/aramco-hopes-to-repair-remaining-damage-from-attacks-by-end-november-idUSKBN1WR0JS\">\n",
       "<img alt=\"\" border=\"0\" org-src=\"https://s2.reutersmedia.net/resources/r/?m=02&amp;d=20191012&amp;t=2&amp;i=1440125458&amp;w=200&amp;fh=&amp;fw=&amp;ll=&amp;pl=&amp;sq=&amp;r=LYNXMPEF9B0JC\" src=\"https://s1.reutersmedia.net/resources_v2/images/1x1.png\"/>\n",
       "</a>\n",
       "</div><div class=\"story-content\">\n",
       "<a href=\"/article/us-saudi-aramco-attacks/aramco-hopes-to-repair-remaining-damage-from-attacks-by-end-november-idUSKBN1WR0JS\">\n",
       "<h3 class=\"story-title\">\n",
       "\t\t\t\t\t\t\t\tAramco hopes to repair remaining damage from attacks by end-November</h3>\n",
       "</a>\n",
       "<div class=\"contributor\"></div>\n",
       "<p>Oil major Saudi Aramco hopes to fix by the end of November the last four key pieces of equipment damaged during attacks last month, in a move to allow it to fully regain production capacity, company officials said on Saturday.</p>\n",
       "<time class=\"article-time\">\n",
       "<span class=\"timestamp\">2:05pm EDT</span>\n",
       "</time>\n",
       "</div>\n",
       "</article>\n",
       "<article class=\"story\">\n",
       "<div class=\"story-photo lazy-photo\">\n",
       "<a href=\"/article/us-syria-security-turkey-killing/sdf-says-turkey-backed-rebels-killed-kurdish-politician-rebels-deny-it-idUSKBN1WR0JM\">\n",
       "<img alt=\"\" border=\"0\" org-src=\"https://s1.reutersmedia.net/resources/r/?m=02&amp;d=20191012&amp;t=2&amp;i=1440124948&amp;w=200&amp;fh=&amp;fw=&amp;ll=&amp;pl=&amp;sq=&amp;r=LYNXMPEF9B0JA\" src=\"https://s1.reutersmedia.net/resources_v2/images/1x1.png\"/>\n",
       "</a>\n",
       "</div><div class=\"story-content\">\n",
       "<a href=\"/article/us-syria-security-turkey-killing/sdf-says-turkey-backed-rebels-killed-kurdish-politician-rebels-deny-it-idUSKBN1WR0JM\">\n",
       "<h3 class=\"story-title\">\n",
       "\t\t\t\t\t\t\t\tSDF says Turkey-backed rebels killed Kurdish politician, rebels deny it</h3>\n",
       "</a>\n",
       "<div class=\"contributor\"></div>\n",
       "<p>The Kurdish-led Syrian Democratic Forces accused Turkey-backed fighters of killing a Kurdish politician in an ambush on a road in northern Syria on Saturday, drawing a denial from a Turkey-backed rebel force which said it had not advanced that far.</p>\n",
       "<time class=\"article-time\">\n",
       "<span class=\"timestamp\">2:04pm EDT</span>\n",
       "</time>\n",
       "</div>\n",
       "</article>\n",
       "<article class=\"story\">\n",
       "<div class=\"story-photo lazy-photo\">\n",
       "<a href=\"/article/us-britain-eu/dups-dodds-says-northern-ireland-must-stay-in-full-uk-customs-union-repubblica-idUSKBN1WR0GO\">\n",
       "<img alt=\"\" border=\"0\" org-src=\"https://s4.reutersmedia.net/resources/r/?m=02&amp;d=20191012&amp;t=2&amp;i=1440103525&amp;w=200&amp;fh=&amp;fw=&amp;ll=&amp;pl=&amp;sq=&amp;r=LYNXMPEF9B0GZ\" src=\"https://s1.reutersmedia.net/resources_v2/images/1x1.png\"/>\n",
       "</a>\n",
       "</div><div class=\"story-content\">\n",
       "<a href=\"/article/us-britain-eu/dups-dodds-says-northern-ireland-must-stay-in-full-uk-customs-union-repubblica-idUSKBN1WR0GO\">\n",
       "<h3 class=\"story-title\">\n",
       "\t\t\t\t\t\t\t\tDUP's Dodds says Northern Ireland must stay in full UK customs union: Repubblica</h3>\n",
       "</a>\n",
       "<div class=\"contributor\"></div>\n",
       "<p>A mooted eleventh-hour solution to the deadlock over Brexit cannot work because Northern Ireland must remain in a full United Kingdom customs union, the deputy leader of the province's key political party said on Saturday.</p>\n",
       "<time class=\"article-time\">\n",
       "<span class=\"timestamp\">1:50pm EDT</span>\n",
       "</time>\n",
       "</div>\n",
       "</article>\n",
       "<article class=\"story\">\n",
       "<div class=\"story-photo lazy-photo\">\n",
       "<a href=\"/article/us-hongkong-protests/petrol-bombs-thrown-in-hong-kong-metro-protesters-defy-face-mask-ban-idUSKBN1WR02X\">\n",
       "<img alt=\"\" border=\"0\" org-src=\"https://s3.reutersmedia.net/resources/r/?m=02&amp;d=20191012&amp;t=2&amp;i=1440117924&amp;w=200&amp;fh=&amp;fw=&amp;ll=&amp;pl=&amp;sq=&amp;r=LYNXMPEF9B0C5\" src=\"https://s1.reutersmedia.net/resources_v2/images/1x1.png\"/>\n",
       "</a>\n",
       "</div><div class=\"story-content\">\n",
       "<a href=\"/article/us-hongkong-protests/petrol-bombs-thrown-in-hong-kong-metro-protesters-defy-face-mask-ban-idUSKBN1WR02X\">\n",
       "<h3 class=\"story-title\">\n",
       "\t\t\t\t\t\t\t\tPetrol bombs thrown in Hong Kong metro, protesters defy face mask ban</h3>\n",
       "</a>\n",
       "<div class=\"contributor\"></div>\n",
       "<p>Petrol bombs were thrown inside a Hong Kong metro station on Saturday but no one was injured, the government said, as pro-democracy protesters again took to the streets angry at what they believe is Beijing's tightening grip on the city.</p>\n",
       "<time class=\"article-time\">\n",
       "<span class=\"timestamp\">1:31pm EDT</span>\n",
       "</time>\n",
       "</div>\n",
       "</article>\n",
       "<article class=\"story\">\n",
       "<div class=\"story-photo lazy-photo\">\n",
       "<a href=\"/article/us-hongkong-protests-cruz/hk-leader-ditches-meeting-ted-cruz-says-the-u-s-senator-idUSKBN1WR0B7\">\n",
       "<img alt=\"\" border=\"0\" org-src=\"https://s3.reutersmedia.net/resources/r/?m=02&amp;d=20191012&amp;t=2&amp;i=1440117872&amp;w=200&amp;fh=&amp;fw=&amp;ll=&amp;pl=&amp;sq=&amp;r=LYNXMPEF9B0DN\" src=\"https://s1.reutersmedia.net/resources_v2/images/1x1.png\"/>\n",
       "</a>\n",
       "</div><div class=\"story-content\">\n",
       "<a href=\"/article/us-hongkong-protests-cruz/hk-leader-ditches-meeting-ted-cruz-says-the-u-s-senator-idUSKBN1WR0B7\">\n",
       "<h3 class=\"story-title\">\n",
       "\t\t\t\t\t\t\t\tHK leader ditches meeting Ted Cruz, says the U.S. senator</h3>\n",
       "</a>\n",
       "<div class=\"contributor\"></div>\n",
       "<p>Hong Kong leader Carrie Lam scrapped a meeting with U.S. Senator Ted Cruz, the highest profile U.S. politician to visit the city since anti-government protests broke out more than four months ago, the senator said on Saturday.</p>\n",
       "<time class=\"article-time\">\n",
       "<span class=\"timestamp\">1:31pm EDT</span>\n",
       "</time>\n",
       "</div>\n",
       "</article>\n",
       "</div>"
      ]
     },
     "execution_count": 70,
     "metadata": {},
     "output_type": "execute_result"
    }
   ],
   "source": [
    "headline_list|"
   ]
  },
  {
   "cell_type": "code",
   "execution_count": null,
   "metadata": {},
   "outputs": [],
   "source": []
  },
  {
   "cell_type": "code",
   "execution_count": 68,
   "metadata": {},
   "outputs": [],
   "source": [
    "story_urls = headline_list.find_all('div', class_='story')"
   ]
  },
  {
   "cell_type": "code",
   "execution_count": 72,
   "metadata": {},
   "outputs": [],
   "source": [
    "story_urls = headline_list.find_all('div', class_='story')"
   ]
  },
  {
   "cell_type": "code",
   "execution_count": 83,
   "metadata": {},
   "outputs": [
    {
     "data": {
      "text/plain": [
       "[]"
      ]
     },
     "execution_count": 83,
     "metadata": {},
     "output_type": "execute_result"
    }
   ],
   "source": [
    "story_urls"
   ]
  },
  {
   "cell_type": "code",
   "execution_count": 84,
   "metadata": {},
   "outputs": [],
   "source": [
    "stories = headline_list.find_all('a')"
   ]
  },
  {
   "cell_type": "code",
   "execution_count": 86,
   "metadata": {},
   "outputs": [
    {
     "data": {
      "text/plain": [
       "bs4.element.ResultSet"
      ]
     },
     "execution_count": 86,
     "metadata": {},
     "output_type": "execute_result"
    }
   ],
   "source": [
    "type(stories)"
   ]
  },
  {
   "cell_type": "code",
   "execution_count": 87,
   "metadata": {},
   "outputs": [],
   "source": [
    "t = stories[0]"
   ]
  },
  {
   "cell_type": "code",
   "execution_count": 89,
   "metadata": {},
   "outputs": [
    {
     "data": {
      "text/plain": [
       "'/article/us-syria-security-turkey-usa/turkish-led-forces-advance-into-syrian-border-town-fighting-rages-idUSKBN1WR04D'"
      ]
     },
     "execution_count": 89,
     "metadata": {},
     "output_type": "execute_result"
    }
   ],
   "source": [
    "t.attrs['href']"
   ]
  },
  {
   "cell_type": "code",
   "execution_count": null,
   "metadata": {},
   "outputs": [],
   "source": [
    "url_list = []\n",
    "REUTERS_BASE_URL = ''\n",
    "headline_list = soup.find('div', class_='news-headline-list')\n",
    "stories = headline_list.find_all('a')"
   ]
  },
  {
   "cell_type": "code",
   "execution_count": 93,
   "metadata": {
    "collapsed": true
   },
   "outputs": [
    {
     "name": "stdout",
     "output_type": "stream",
     "text": [
      "/article/us-syria-security-turkey-usa/turkish-led-forces-advance-into-syrian-border-town-fighting-rages-idUSKBN1WR04D\n",
      "/article/us-syria-security-turkey-usa/turkish-led-forces-advance-into-syrian-border-town-fighting-rages-idUSKBN1WR04D\n",
      "/article/us-syria-security-greece-kurds/kurds-march-in-paris-and-athens-to-protest-turkish-incursion-into-syria-idUSKBN1WR0JY\n",
      "/article/us-syria-security-greece-kurds/kurds-march-in-paris-and-athens-to-protest-turkish-incursion-into-syria-idUSKBN1WR0JY\n",
      "/article/us-ecuador-protests/protest-leaders-in-ecuador-accept-talks-with-government-as-unrest-roils-capital-idUSKBN1WR0JA\n",
      "/article/us-ecuador-protests/protest-leaders-in-ecuador-accept-talks-with-government-as-unrest-roils-capital-idUSKBN1WR0JA\n",
      "/article/us-mideast-iran-saudi-pakistan/iran-says-ready-for-talks-with-saudi-with-or-without-mediation-idUSKBN1WR0F8\n",
      "/article/us-mideast-iran-saudi-pakistan/iran-says-ready-for-talks-with-saudi-with-or-without-mediation-idUSKBN1WR0F8\n",
      "/article/us-ecuador-protests-talks/ecuadorean-indigenous-group-announces-direct-talks-with-moreno-idUSKBN1WR0K0\n",
      "/article/us-ecuador-protests-talks/ecuadorean-indigenous-group-announces-direct-talks-with-moreno-idUSKBN1WR0K0\n",
      "/article/us-saudi-aramco-attacks/aramco-hopes-to-repair-remaining-damage-from-attacks-by-end-november-idUSKBN1WR0JS\n",
      "/article/us-saudi-aramco-attacks/aramco-hopes-to-repair-remaining-damage-from-attacks-by-end-november-idUSKBN1WR0JS\n",
      "/article/us-syria-security-turkey-killing/sdf-says-turkey-backed-rebels-killed-kurdish-politician-rebels-deny-it-idUSKBN1WR0JM\n",
      "/article/us-syria-security-turkey-killing/sdf-says-turkey-backed-rebels-killed-kurdish-politician-rebels-deny-it-idUSKBN1WR0JM\n",
      "/article/us-britain-eu/dups-dodds-says-northern-ireland-must-stay-in-full-uk-customs-union-repubblica-idUSKBN1WR0GO\n",
      "/article/us-britain-eu/dups-dodds-says-northern-ireland-must-stay-in-full-uk-customs-union-repubblica-idUSKBN1WR0GO\n",
      "/article/us-hongkong-protests/petrol-bombs-thrown-in-hong-kong-metro-protesters-defy-face-mask-ban-idUSKBN1WR02X\n",
      "/article/us-hongkong-protests/petrol-bombs-thrown-in-hong-kong-metro-protesters-defy-face-mask-ban-idUSKBN1WR02X\n",
      "/article/us-hongkong-protests-cruz/hk-leader-ditches-meeting-ted-cruz-says-the-u-s-senator-idUSKBN1WR0B7\n",
      "/article/us-hongkong-protests-cruz/hk-leader-ditches-meeting-ted-cruz-says-the-u-s-senator-idUSKBN1WR0B7\n"
     ]
    }
   ],
   "source": [
    "for story in stories:\n",
    "    print(story.attrs['href'])"
   ]
  },
  {
   "cell_type": "code",
   "execution_count": 96,
   "metadata": {
    "collapsed": true
   },
   "outputs": [
    {
     "name": "stdout",
     "output_type": "stream",
     "text": [
      "/article/us-syria-security-turkey-usa/turkish-led-forces-advance-into-syrian-border-town-fighting-rages-idUSKBN1WR04D\n",
      "/article/us-syria-security-greece-kurds/kurds-march-in-paris-and-athens-to-protest-turkish-incursion-into-syria-idUSKBN1WR0JY\n",
      "/article/us-ecuador-protests/protest-leaders-in-ecuador-accept-talks-with-government-as-unrest-roils-capital-idUSKBN1WR0JA\n",
      "/article/us-mideast-iran-saudi-pakistan/iran-says-ready-for-talks-with-saudi-with-or-without-mediation-idUSKBN1WR0F8\n",
      "/article/us-ecuador-protests-talks/ecuadorean-indigenous-group-announces-direct-talks-with-moreno-idUSKBN1WR0K0\n",
      "/article/us-saudi-aramco-attacks/aramco-hopes-to-repair-remaining-damage-from-attacks-by-end-november-idUSKBN1WR0JS\n",
      "/article/us-syria-security-turkey-killing/sdf-says-turkey-backed-rebels-killed-kurdish-politician-rebels-deny-it-idUSKBN1WR0JM\n",
      "/article/us-britain-eu/dups-dodds-says-northern-ireland-must-stay-in-full-uk-customs-union-repubblica-idUSKBN1WR0GO\n",
      "/article/us-hongkong-protests/petrol-bombs-thrown-in-hong-kong-metro-protesters-defy-face-mask-ban-idUSKBN1WR02X\n",
      "/article/us-hongkong-protests-cruz/hk-leader-ditches-meeting-ted-cruz-says-the-u-s-senator-idUSKBN1WR0B7\n"
     ]
    }
   ],
   "source": [
    "for story in stories[::2]:\n",
    "    print(story.attrs['href'])"
   ]
  },
  {
   "cell_type": "markdown",
   "metadata": {},
   "source": [
    "## Code to get Reuters World News URLs from their archive"
   ]
  },
  {
   "cell_type": "code",
   "execution_count": 153,
   "metadata": {},
   "outputs": [],
   "source": [
    "base_url = 'https://www.reuters.com/news/archive/worldNews?view=page&page={}&pageSize=10'\n",
    "rt_url_list = []\n",
    "for page in range(1, 250):\n",
    "    url = base_url.format(page)\n",
    "    resp = requests.get(url)\n",
    "    soup = BeautifulSoup(resp.content, 'html.parser')\n",
    "    headline_list = soup.find('div', class_='news-headline-list')\n",
    "    stories = headline_list.find_all('a')\n",
    "    for story in stories[::2]:\n",
    "        rt_url_list.append(story.attrs['href'])\n"
   ]
  },
  {
   "cell_type": "code",
   "execution_count": 154,
   "metadata": {},
   "outputs": [
    {
     "data": {
      "text/plain": [
       "2490"
      ]
     },
     "execution_count": 154,
     "metadata": {},
     "output_type": "execute_result"
    }
   ],
   "source": [
    "len(rt_url_list)"
   ]
  },
  {
   "cell_type": "markdown",
   "metadata": {},
   "source": [
    "## Save our list of Reuters URLs"
   ]
  },
  {
   "cell_type": "code",
   "execution_count": 156,
   "metadata": {},
   "outputs": [],
   "source": [
    "with open('rt_url_list.pkl', 'wb') as f:\n",
    "    pickle.dump(rt_url_list, f)"
   ]
  },
  {
   "cell_type": "markdown",
   "metadata": {},
   "source": [
    "## Some Testing"
   ]
  },
  {
   "cell_type": "code",
   "execution_count": 157,
   "metadata": {},
   "outputs": [],
   "source": [
    "test_rt_url_list = rt_url_list[0:10]"
   ]
  },
  {
   "cell_type": "code",
   "execution_count": 158,
   "metadata": {},
   "outputs": [
    {
     "data": {
      "text/plain": [
       "'ArticleHeader_date'"
      ]
     },
     "execution_count": 158,
     "metadata": {},
     "output_type": "execute_result"
    }
   ],
   "source": [
    "'ArticleHeader_date'"
   ]
  },
  {
   "cell_type": "code",
   "execution_count": 159,
   "metadata": {},
   "outputs": [
    {
     "data": {
      "text/plain": [
       "'ArticleHeader_headline'"
      ]
     },
     "execution_count": 159,
     "metadata": {},
     "output_type": "execute_result"
    }
   ],
   "source": [
    "'ArticleHeader_headline'"
   ]
  },
  {
   "cell_type": "markdown",
   "metadata": {},
   "source": [
    "## TO DO"
   ]
  },
  {
   "cell_type": "markdown",
   "metadata": {},
   "source": [
    "#### - Pull out date (new func is below - add error handling)\n",
    "#### - Pull out headline\n",
    "#### - Pull out text (func is below - add error handling)\n",
    "#### - Add to data structure\n",
    "#### - Write each dict to a file"
   ]
  },
  {
   "cell_type": "markdown",
   "metadata": {},
   "source": [
    "## Get some RT Articles!"
   ]
  },
  {
   "cell_type": "code",
   "execution_count": 160,
   "metadata": {},
   "outputs": [],
   "source": [
    "url = test_rt_url_list[0]"
   ]
  },
  {
   "cell_type": "code",
   "execution_count": 163,
   "metadata": {},
   "outputs": [],
   "source": [
    "base = 'https://www.reuters.com'"
   ]
  },
  {
   "cell_type": "code",
   "execution_count": 164,
   "metadata": {},
   "outputs": [],
   "source": [
    "url = base + url"
   ]
  },
  {
   "cell_type": "code",
   "execution_count": 165,
   "metadata": {},
   "outputs": [
    {
     "data": {
      "text/plain": [
       "'https://www.reuters.com/article/us-syria-security-turkey-usa/turkish-led-forces-advance-into-syrian-border-town-fighting-rages-idUSKBN1WR04D'"
      ]
     },
     "execution_count": 165,
     "metadata": {},
     "output_type": "execute_result"
    }
   ],
   "source": [
    "url"
   ]
  },
  {
   "cell_type": "code",
   "execution_count": 166,
   "metadata": {},
   "outputs": [],
   "source": [
    "resp = requests.get(url)"
   ]
  },
  {
   "cell_type": "code",
   "execution_count": 167,
   "metadata": {},
   "outputs": [],
   "source": [
    "soup = BeautifulSoup(resp.content, 'html.parser')"
   ]
  },
  {
   "cell_type": "code",
   "execution_count": 168,
   "metadata": {},
   "outputs": [],
   "source": [
    "d = soup.find('div', class_='ArticleHeader_date')"
   ]
  },
  {
   "cell_type": "code",
   "execution_count": 170,
   "metadata": {},
   "outputs": [
    {
     "data": {
      "text/plain": [
       "'October 12, 2019 /  6:45 AM / Updated 14 minutes ago'"
      ]
     },
     "execution_count": 170,
     "metadata": {},
     "output_type": "execute_result"
    }
   ],
   "source": [
    "d.text"
   ]
  },
  {
   "cell_type": "code",
   "execution_count": 171,
   "metadata": {},
   "outputs": [],
   "source": [
    "pat = r'\\w+ \\d+, 2019'"
   ]
  },
  {
   "cell_type": "code",
   "execution_count": 173,
   "metadata": {},
   "outputs": [],
   "source": [
    "m = re.match(pat, d.text)"
   ]
  },
  {
   "cell_type": "code",
   "execution_count": 177,
   "metadata": {},
   "outputs": [
    {
     "data": {
      "text/plain": [
       "'October 12, 2019'"
      ]
     },
     "execution_count": 177,
     "metadata": {},
     "output_type": "execute_result"
    }
   ],
   "source": [
    "m[0]  # change it to: 2019-10-12"
   ]
  },
  {
   "cell_type": "markdown",
   "metadata": {},
   "source": [
    "## Date parsing code:"
   ]
  },
  {
   "cell_type": "code",
   "execution_count": 195,
   "metadata": {},
   "outputs": [],
   "source": [
    "def get_rt_dt(soup):\n",
    "    from dateutil.parser import parse\n",
    "    d = soup.find('div', class_='ArticleHeader_date')\n",
    "    pat = r'\\w+ \\d+, 2019'\n",
    "    m = re.match(pat, d.text)\n",
    "\n",
    "    # best to check for match before parsing!\n",
    "    # TO DO: check match\n",
    "    dt = parse(m[0])\n",
    "    return dt.strftime(\"%Y-%m-%d\")"
   ]
  },
  {
   "cell_type": "code",
   "execution_count": null,
   "metadata": {},
   "outputs": [],
   "source": [
    "rt_test_article_list = []\n",
    "for url in test_rt_url_list:\n",
    "    resp = requests.get(url)\n",
    "    soup = BeautifulSoup(resp.content, 'html.parser')\n",
    "    dt_str = get_rt_dt(soup)\n",
    "    \n",
    "    ## continue.....\n",
    "    \n",
    "    "
   ]
  },
  {
   "cell_type": "code",
   "execution_count": 100,
   "metadata": {},
   "outputs": [],
   "source": [
    "test_url = base+url"
   ]
  },
  {
   "cell_type": "code",
   "execution_count": 102,
   "metadata": {},
   "outputs": [],
   "source": [
    "resp = requests.get(test_url)"
   ]
  },
  {
   "cell_type": "code",
   "execution_count": 103,
   "metadata": {},
   "outputs": [],
   "source": [
    "soup = BeautifulSoup(resp.content, 'html.parser')"
   ]
  },
  {
   "cell_type": "code",
   "execution_count": 135,
   "metadata": {},
   "outputs": [],
   "source": [
    "paras = soup.find_all('p')"
   ]
  },
  {
   "cell_type": "code",
   "execution_count": 136,
   "metadata": {},
   "outputs": [],
   "source": []
  },
  {
   "cell_type": "code",
   "execution_count": 140,
   "metadata": {},
   "outputs": [],
   "source": [
    "def get_rt_article(soup):\n",
    "    pat1 = r'^\\d+ Min Read'\n",
    "    p1 = re.compile(pat1)\n",
    "\n",
    "    pat2 = r'© 2019 Reuters. All Rights Reserved.'\n",
    "    p2 = re.compile(pat2)\n",
    "\n",
    "    pat3 = r'[A-Z]* \\(Reuters\\) - '\n",
    "    p3 = re.compile(pat3)\n",
    "\n",
    "    \n",
    "    paras = soup.find_all('p')\n",
    "    text_list = []\n",
    "    for para in paras:\n",
    "        text = p1.sub('', para.text)\n",
    "\n",
    "        text = p2.sub('', text)\n",
    "\n",
    "        text = p3.sub('', text)\n",
    "\n",
    "        text_list.append(text.strip())\n",
    "        \n",
    "    return ''.join(text_list)"
   ]
  },
  {
   "cell_type": "code",
   "execution_count": 141,
   "metadata": {},
   "outputs": [
    {
     "data": {
      "text/plain": [
       "'Thousands of Kurds and their local supporters rallied in France and in Greece on Saturday to protest against Turkey’s military action in northeast Syria.In Paris, about 3,000 people gathered at the Place de la Republique after an earlier protest near the Eiffel Tower. People carried banners denouncing the Turkish offensive and calling on France to help the Kurds.In Athens, about 2,000 Kurds and Greeks marched to the Turkish embassy in central Athens waving Kurdish flags and banners reading “Stop the invasion now”.“This is a genocide. Please help us, please help us, it’s enough,” Bawan, one of the Kurdish protesters, told Reuters.A group burned a poster of Turkish President Tayyip Erdogan.The Turkish incursion in northeast Syria has raised international alarm over a mass displacement of civilians and fears that it could trigger a revival of the Islamic State insurgency in Syria.Despite their status as NATO allies, relations between Turkey and Greece have historically been tense.Greece, the route into Europe for nearly a million refugees and migrants in 2015, is dealing with a steep rise in migrants crossing the Aegean to its islands from neighboring Turkey after a relative three-year lull.Reporting by Lefteris Papadimas in Athens and John Irish in Paris; Editing by James DrummondAll quotes delayed a minimum of 15 minutes. See here for a complete list of exchanges and delays.'"
      ]
     },
     "execution_count": 141,
     "metadata": {},
     "output_type": "execute_result"
    }
   ],
   "source": [
    "get_rt_article(soup)"
   ]
  },
  {
   "cell_type": "code",
   "execution_count": null,
   "metadata": {},
   "outputs": [],
   "source": []
  },
  {
   "cell_type": "code",
   "execution_count": null,
   "metadata": {},
   "outputs": [],
   "source": []
  }
 ],
 "metadata": {
  "kernelspec": {
   "display_name": "Python 3",
   "language": "python",
   "name": "python3"
  },
  "language_info": {
   "codemirror_mode": {
    "name": "ipython",
    "version": 3
   },
   "file_extension": ".py",
   "mimetype": "text/x-python",
   "name": "python",
   "nbconvert_exporter": "python",
   "pygments_lexer": "ipython3",
   "version": "3.7.3"
  }
 },
 "nbformat": 4,
 "nbformat_minor": 2
}
