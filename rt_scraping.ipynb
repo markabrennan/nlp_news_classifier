{
 "cells": [
  {
   "cell_type": "code",
   "execution_count": 62,
   "metadata": {},
   "outputs": [],
   "source": [
    "import requests\n",
    "import pandas as pd\n",
    "import numpy as np\n",
    "import json\n",
    "from bs4 import BeautifulSoup\n",
    "import config\n",
    "import logging\n",
    "import importlib\n",
    "import time\n",
    "import random\n",
    "from selenium import webdriver\n",
    "from selenium.webdriver.common.by import By \n",
    "from selenium.webdriver.support.ui import WebDriverWait \n",
    "from selenium.webdriver.support import expected_conditions as EC \n",
    "from selenium.common.exceptions import TimeoutException\n",
    "import validators\n",
    "import pickle\n",
    "import time\n",
    "import random\n",
    "from calendar import monthrange\n",
    "import re"
   ]
  },
  {
   "cell_type": "code",
   "execution_count": 35,
   "metadata": {},
   "outputs": [],
   "source": [
    "# Code to get successive pickled objects\n",
    "# from a pickle file\n",
    "with open('nyt_data.pkl', 'rb') as f:\n",
    "    objs = []\n",
    "    while 1:\n",
    "        try:\n",
    "            objs.append(pickle.load(f))\n",
    "        except EOFError:\n",
    "            break"
   ]
  },
  {
   "cell_type": "markdown",
   "metadata": {},
   "source": [
    "## Try out scraping Reuters!"
   ]
  },
  {
   "cell_type": "code",
   "execution_count": 49,
   "metadata": {},
   "outputs": [],
   "source": [
    "# Set logging parameters\n",
    "logging.basicConfig(level=logging.INFO, filename='rt_scraping.log', filemode='w+', \\\n",
    "                    format='%(asctime)-15s:  %(levelname)s - %(message)s')"
   ]
  },
  {
   "cell_type": "code",
   "execution_count": 70,
   "metadata": {
    "collapsed": true
   },
   "outputs": [
    {
     "data": {
      "text/plain": [
       "<div class=\"news-headline-list\">\n",
       "<article class=\"story\">\n",
       "<div class=\"story-photo lazy-photo\">\n",
       "<a href=\"/article/us-syria-security-turkey-usa/turkish-led-forces-advance-into-syrian-border-town-fighting-rages-idUSKBN1WR04D\">\n",
       "<img alt=\"\" border=\"0\" org-src=\"https://s4.reutersmedia.net/resources/r/?m=02&amp;d=20191012&amp;t=2&amp;i=1440105919&amp;w=200&amp;fh=&amp;fw=&amp;ll=&amp;pl=&amp;sq=&amp;r=LYNXMPEF9B0HU\" src=\"https://s1.reutersmedia.net/resources_v2/images/1x1.png\"/>\n",
       "</a>\n",
       "</div><div class=\"story-content\">\n",
       "<a href=\"/article/us-syria-security-turkey-usa/turkish-led-forces-advance-into-syrian-border-town-fighting-rages-idUSKBN1WR04D\">\n",
       "<h3 class=\"story-title\">\n",
       "\t\t\t\t\t\t\t\tTurkish-led forces advance into Syrian border town, fighting rages</h3>\n",
       "</a>\n",
       "<div class=\"contributor\"></div>\n",
       "<p>Turkish-backed Syrian rebels advanced into Ras al Ain in northeast Syria on Saturday but it was unclear how far, with Turkey saying the town center had been taken and Kurdish-led forces denying this and saying they were counter-attacking.</p>\n",
       "<time class=\"article-time\">\n",
       "<span class=\"timestamp\">2:45pm EDT</span>\n",
       "</time>\n",
       "</div>\n",
       "</article>\n",
       "<article class=\"story\">\n",
       "<div class=\"story-photo lazy-photo\">\n",
       "<a href=\"/article/us-syria-security-greece-kurds/kurds-march-in-paris-and-athens-to-protest-turkish-incursion-into-syria-idUSKBN1WR0JY\">\n",
       "<img alt=\"\" border=\"0\" org-src=\"https://s3.reutersmedia.net/resources/r/?m=02&amp;d=20191012&amp;t=2&amp;i=1440133973&amp;w=200&amp;fh=&amp;fw=&amp;ll=&amp;pl=&amp;sq=&amp;r=LYNXMPEF9B0K5\" src=\"https://s1.reutersmedia.net/resources_v2/images/1x1.png\"/>\n",
       "</a>\n",
       "</div><div class=\"story-content\">\n",
       "<a href=\"/article/us-syria-security-greece-kurds/kurds-march-in-paris-and-athens-to-protest-turkish-incursion-into-syria-idUSKBN1WR0JY\">\n",
       "<h3 class=\"story-title\">\n",
       "\t\t\t\t\t\t\t\tKurds march in Paris and Athens to protest Turkish incursion into Syria</h3>\n",
       "</a>\n",
       "<div class=\"contributor\"></div>\n",
       "<p>Thousands of Kurds and their local supporters rallied in France and in Greece on Saturday to protest against Turkey's military action in northeast Syria.</p>\n",
       "<time class=\"article-time\">\n",
       "<span class=\"timestamp\">2:45pm EDT</span>\n",
       "</time>\n",
       "</div>\n",
       "</article>\n",
       "<article class=\"story\">\n",
       "<div class=\"story-photo lazy-photo\">\n",
       "<a href=\"/article/us-ecuador-protests/protest-leaders-in-ecuador-accept-talks-with-government-as-unrest-roils-capital-idUSKBN1WR0JA\">\n",
       "<img alt=\"\" border=\"0\" org-src=\"https://s4.reutersmedia.net/resources/r/?m=02&amp;d=20191012&amp;t=2&amp;i=1440118840&amp;w=200&amp;fh=&amp;fw=&amp;ll=&amp;pl=&amp;sq=&amp;r=LYNXMPEF9B0IR\" src=\"https://s1.reutersmedia.net/resources_v2/images/1x1.png\"/>\n",
       "</a>\n",
       "</div><div class=\"story-content\">\n",
       "<a href=\"/article/us-ecuador-protests/protest-leaders-in-ecuador-accept-talks-with-government-as-unrest-roils-capital-idUSKBN1WR0JA\">\n",
       "<h3 class=\"story-title\">\n",
       "\t\t\t\t\t\t\t\tProtest leaders in Ecuador accept talks with government as unrest roils capital</h3>\n",
       "</a>\n",
       "<div class=\"contributor\"></div>\n",
       "<p>An indigenous group in Ecuador that has led massive protests to reinstate a fuel subsidy said on Saturday that it has decided to hold direct talks with President Lenin Moreno, the first sign of a potential breakthrough in a dispute that has triggered more than a week of unrest.</p>\n",
       "<time class=\"article-time\">\n",
       "<span class=\"timestamp\">2:35pm EDT</span>\n",
       "</time>\n",
       "</div>\n",
       "</article>\n",
       "<article class=\"story\">\n",
       "<div class=\"story-photo\">\n",
       "<a href=\"/article/us-mideast-iran-saudi-pakistan/iran-says-ready-for-talks-with-saudi-with-or-without-mediation-idUSKBN1WR0F8\">\n",
       "<img alt=\"\" border=\"0\" class=\"placeholder-image\" src=\"https://s1.reutersmedia.net/resources_v2/images/1x1.png\"/>\n",
       "</a>\n",
       "</div><div class=\"story-content\">\n",
       "<a href=\"/article/us-mideast-iran-saudi-pakistan/iran-says-ready-for-talks-with-saudi-with-or-without-mediation-idUSKBN1WR0F8\">\n",
       "<h3 class=\"story-title\">\n",
       "\t\t\t\t\t\t\t\tIran says ready for talks with Saudi, with or without mediation</h3>\n",
       "</a>\n",
       "<div class=\"contributor\"></div>\n",
       "<p>Iran is prepared to hold talks with regional rival Saudi Arabia with or without the help of a mediator, the Iranian Foreign Ministry said on Saturday, ahead of a visit by Pakistani Prime Minister Imran Khan.</p>\n",
       "<time class=\"article-time\">\n",
       "<span class=\"timestamp\">2:34pm EDT</span>\n",
       "</time>\n",
       "</div>\n",
       "</article>\n",
       "<article class=\"story\">\n",
       "<div class=\"story-photo lazy-photo\">\n",
       "<a href=\"/article/us-ecuador-protests-talks/ecuadorean-indigenous-group-announces-direct-talks-with-moreno-idUSKBN1WR0K0\">\n",
       "<img alt=\"\" border=\"0\" org-src=\"https://s2.reutersmedia.net/resources/r/?m=02&amp;d=20191012&amp;t=2&amp;i=1440126393&amp;w=200&amp;fh=&amp;fw=&amp;ll=&amp;pl=&amp;sq=&amp;r=LYNXMPEF9B0JF\" src=\"https://s1.reutersmedia.net/resources_v2/images/1x1.png\"/>\n",
       "</a>\n",
       "</div><div class=\"story-content\">\n",
       "<a href=\"/article/us-ecuador-protests-talks/ecuadorean-indigenous-group-announces-direct-talks-with-moreno-idUSKBN1WR0K0\">\n",
       "<h3 class=\"story-title\">\n",
       "\t\t\t\t\t\t\t\tEcuadorean indigenous group announces direct talks with Moreno</h3>\n",
       "</a>\n",
       "<div class=\"contributor\"></div>\n",
       "<p>An indigenous group in Ecuador that has led massive protests to reinstate a fuel subsidy announced on Saturday that it has decided to hold direct talks with President Lenin Moreno, the first sign of a potential breakthrough in a dispute that has triggered more than a week of unrest.</p>\n",
       "<time class=\"article-time\">\n",
       "<span class=\"timestamp\">2:10pm EDT</span>\n",
       "</time>\n",
       "</div>\n",
       "</article>\n",
       "<article class=\"story\">\n",
       "<div class=\"story-photo lazy-photo\">\n",
       "<a href=\"/article/us-saudi-aramco-attacks/aramco-hopes-to-repair-remaining-damage-from-attacks-by-end-november-idUSKBN1WR0JS\">\n",
       "<img alt=\"\" border=\"0\" org-src=\"https://s2.reutersmedia.net/resources/r/?m=02&amp;d=20191012&amp;t=2&amp;i=1440125458&amp;w=200&amp;fh=&amp;fw=&amp;ll=&amp;pl=&amp;sq=&amp;r=LYNXMPEF9B0JC\" src=\"https://s1.reutersmedia.net/resources_v2/images/1x1.png\"/>\n",
       "</a>\n",
       "</div><div class=\"story-content\">\n",
       "<a href=\"/article/us-saudi-aramco-attacks/aramco-hopes-to-repair-remaining-damage-from-attacks-by-end-november-idUSKBN1WR0JS\">\n",
       "<h3 class=\"story-title\">\n",
       "\t\t\t\t\t\t\t\tAramco hopes to repair remaining damage from attacks by end-November</h3>\n",
       "</a>\n",
       "<div class=\"contributor\"></div>\n",
       "<p>Oil major Saudi Aramco hopes to fix by the end of November the last four key pieces of equipment damaged during attacks last month, in a move to allow it to fully regain production capacity, company officials said on Saturday.</p>\n",
       "<time class=\"article-time\">\n",
       "<span class=\"timestamp\">2:05pm EDT</span>\n",
       "</time>\n",
       "</div>\n",
       "</article>\n",
       "<article class=\"story\">\n",
       "<div class=\"story-photo lazy-photo\">\n",
       "<a href=\"/article/us-syria-security-turkey-killing/sdf-says-turkey-backed-rebels-killed-kurdish-politician-rebels-deny-it-idUSKBN1WR0JM\">\n",
       "<img alt=\"\" border=\"0\" org-src=\"https://s1.reutersmedia.net/resources/r/?m=02&amp;d=20191012&amp;t=2&amp;i=1440124948&amp;w=200&amp;fh=&amp;fw=&amp;ll=&amp;pl=&amp;sq=&amp;r=LYNXMPEF9B0JA\" src=\"https://s1.reutersmedia.net/resources_v2/images/1x1.png\"/>\n",
       "</a>\n",
       "</div><div class=\"story-content\">\n",
       "<a href=\"/article/us-syria-security-turkey-killing/sdf-says-turkey-backed-rebels-killed-kurdish-politician-rebels-deny-it-idUSKBN1WR0JM\">\n",
       "<h3 class=\"story-title\">\n",
       "\t\t\t\t\t\t\t\tSDF says Turkey-backed rebels killed Kurdish politician, rebels deny it</h3>\n",
       "</a>\n",
       "<div class=\"contributor\"></div>\n",
       "<p>The Kurdish-led Syrian Democratic Forces accused Turkey-backed fighters of killing a Kurdish politician in an ambush on a road in northern Syria on Saturday, drawing a denial from a Turkey-backed rebel force which said it had not advanced that far.</p>\n",
       "<time class=\"article-time\">\n",
       "<span class=\"timestamp\">2:04pm EDT</span>\n",
       "</time>\n",
       "</div>\n",
       "</article>\n",
       "<article class=\"story\">\n",
       "<div class=\"story-photo lazy-photo\">\n",
       "<a href=\"/article/us-britain-eu/dups-dodds-says-northern-ireland-must-stay-in-full-uk-customs-union-repubblica-idUSKBN1WR0GO\">\n",
       "<img alt=\"\" border=\"0\" org-src=\"https://s4.reutersmedia.net/resources/r/?m=02&amp;d=20191012&amp;t=2&amp;i=1440103525&amp;w=200&amp;fh=&amp;fw=&amp;ll=&amp;pl=&amp;sq=&amp;r=LYNXMPEF9B0GZ\" src=\"https://s1.reutersmedia.net/resources_v2/images/1x1.png\"/>\n",
       "</a>\n",
       "</div><div class=\"story-content\">\n",
       "<a href=\"/article/us-britain-eu/dups-dodds-says-northern-ireland-must-stay-in-full-uk-customs-union-repubblica-idUSKBN1WR0GO\">\n",
       "<h3 class=\"story-title\">\n",
       "\t\t\t\t\t\t\t\tDUP's Dodds says Northern Ireland must stay in full UK customs union: Repubblica</h3>\n",
       "</a>\n",
       "<div class=\"contributor\"></div>\n",
       "<p>A mooted eleventh-hour solution to the deadlock over Brexit cannot work because Northern Ireland must remain in a full United Kingdom customs union, the deputy leader of the province's key political party said on Saturday.</p>\n",
       "<time class=\"article-time\">\n",
       "<span class=\"timestamp\">1:50pm EDT</span>\n",
       "</time>\n",
       "</div>\n",
       "</article>\n",
       "<article class=\"story\">\n",
       "<div class=\"story-photo lazy-photo\">\n",
       "<a href=\"/article/us-hongkong-protests/petrol-bombs-thrown-in-hong-kong-metro-protesters-defy-face-mask-ban-idUSKBN1WR02X\">\n",
       "<img alt=\"\" border=\"0\" org-src=\"https://s3.reutersmedia.net/resources/r/?m=02&amp;d=20191012&amp;t=2&amp;i=1440117924&amp;w=200&amp;fh=&amp;fw=&amp;ll=&amp;pl=&amp;sq=&amp;r=LYNXMPEF9B0C5\" src=\"https://s1.reutersmedia.net/resources_v2/images/1x1.png\"/>\n",
       "</a>\n",
       "</div><div class=\"story-content\">\n",
       "<a href=\"/article/us-hongkong-protests/petrol-bombs-thrown-in-hong-kong-metro-protesters-defy-face-mask-ban-idUSKBN1WR02X\">\n",
       "<h3 class=\"story-title\">\n",
       "\t\t\t\t\t\t\t\tPetrol bombs thrown in Hong Kong metro, protesters defy face mask ban</h3>\n",
       "</a>\n",
       "<div class=\"contributor\"></div>\n",
       "<p>Petrol bombs were thrown inside a Hong Kong metro station on Saturday but no one was injured, the government said, as pro-democracy protesters again took to the streets angry at what they believe is Beijing's tightening grip on the city.</p>\n",
       "<time class=\"article-time\">\n",
       "<span class=\"timestamp\">1:31pm EDT</span>\n",
       "</time>\n",
       "</div>\n",
       "</article>\n",
       "<article class=\"story\">\n",
       "<div class=\"story-photo lazy-photo\">\n",
       "<a href=\"/article/us-hongkong-protests-cruz/hk-leader-ditches-meeting-ted-cruz-says-the-u-s-senator-idUSKBN1WR0B7\">\n",
       "<img alt=\"\" border=\"0\" org-src=\"https://s3.reutersmedia.net/resources/r/?m=02&amp;d=20191012&amp;t=2&amp;i=1440117872&amp;w=200&amp;fh=&amp;fw=&amp;ll=&amp;pl=&amp;sq=&amp;r=LYNXMPEF9B0DN\" src=\"https://s1.reutersmedia.net/resources_v2/images/1x1.png\"/>\n",
       "</a>\n",
       "</div><div class=\"story-content\">\n",
       "<a href=\"/article/us-hongkong-protests-cruz/hk-leader-ditches-meeting-ted-cruz-says-the-u-s-senator-idUSKBN1WR0B7\">\n",
       "<h3 class=\"story-title\">\n",
       "\t\t\t\t\t\t\t\tHK leader ditches meeting Ted Cruz, says the U.S. senator</h3>\n",
       "</a>\n",
       "<div class=\"contributor\"></div>\n",
       "<p>Hong Kong leader Carrie Lam scrapped a meeting with U.S. Senator Ted Cruz, the highest profile U.S. politician to visit the city since anti-government protests broke out more than four months ago, the senator said on Saturday.</p>\n",
       "<time class=\"article-time\">\n",
       "<span class=\"timestamp\">1:31pm EDT</span>\n",
       "</time>\n",
       "</div>\n",
       "</article>\n",
       "</div>"
      ]
     },
     "execution_count": 70,
     "metadata": {},
     "output_type": "execute_result"
    }
   ],
   "source": [
    "headline_list|"
   ]
  },
  {
   "cell_type": "code",
   "execution_count": null,
   "metadata": {},
   "outputs": [],
   "source": []
  },
  {
   "cell_type": "code",
   "execution_count": 68,
   "metadata": {},
   "outputs": [],
   "source": [
    "story_urls = headline_list.find_all('div', class_='story')"
   ]
  },
  {
   "cell_type": "code",
   "execution_count": 72,
   "metadata": {},
   "outputs": [],
   "source": [
    "story_urls = headline_list.find_all('div', class_='story')"
   ]
  },
  {
   "cell_type": "code",
   "execution_count": 83,
   "metadata": {},
   "outputs": [
    {
     "data": {
      "text/plain": [
       "[]"
      ]
     },
     "execution_count": 83,
     "metadata": {},
     "output_type": "execute_result"
    }
   ],
   "source": [
    "story_urls"
   ]
  },
  {
   "cell_type": "code",
   "execution_count": 84,
   "metadata": {},
   "outputs": [],
   "source": [
    "stories = headline_list.find_all('a')"
   ]
  },
  {
   "cell_type": "code",
   "execution_count": 86,
   "metadata": {},
   "outputs": [
    {
     "data": {
      "text/plain": [
       "bs4.element.ResultSet"
      ]
     },
     "execution_count": 86,
     "metadata": {},
     "output_type": "execute_result"
    }
   ],
   "source": [
    "type(stories)"
   ]
  },
  {
   "cell_type": "code",
   "execution_count": 87,
   "metadata": {},
   "outputs": [],
   "source": [
    "t = stories[0]"
   ]
  },
  {
   "cell_type": "code",
   "execution_count": 89,
   "metadata": {},
   "outputs": [
    {
     "data": {
      "text/plain": [
       "'/article/us-syria-security-turkey-usa/turkish-led-forces-advance-into-syrian-border-town-fighting-rages-idUSKBN1WR04D'"
      ]
     },
     "execution_count": 89,
     "metadata": {},
     "output_type": "execute_result"
    }
   ],
   "source": [
    "t.attrs['href']"
   ]
  },
  {
   "cell_type": "code",
   "execution_count": null,
   "metadata": {},
   "outputs": [],
   "source": [
    "url_list = []\n",
    "REUTERS_BASE_URL = ''\n",
    "headline_list = soup.find('div', class_='news-headline-list')\n",
    "stories = headline_list.find_all('a')"
   ]
  },
  {
   "cell_type": "code",
   "execution_count": 93,
   "metadata": {
    "collapsed": true
   },
   "outputs": [
    {
     "name": "stdout",
     "output_type": "stream",
     "text": [
      "/article/us-syria-security-turkey-usa/turkish-led-forces-advance-into-syrian-border-town-fighting-rages-idUSKBN1WR04D\n",
      "/article/us-syria-security-turkey-usa/turkish-led-forces-advance-into-syrian-border-town-fighting-rages-idUSKBN1WR04D\n",
      "/article/us-syria-security-greece-kurds/kurds-march-in-paris-and-athens-to-protest-turkish-incursion-into-syria-idUSKBN1WR0JY\n",
      "/article/us-syria-security-greece-kurds/kurds-march-in-paris-and-athens-to-protest-turkish-incursion-into-syria-idUSKBN1WR0JY\n",
      "/article/us-ecuador-protests/protest-leaders-in-ecuador-accept-talks-with-government-as-unrest-roils-capital-idUSKBN1WR0JA\n",
      "/article/us-ecuador-protests/protest-leaders-in-ecuador-accept-talks-with-government-as-unrest-roils-capital-idUSKBN1WR0JA\n",
      "/article/us-mideast-iran-saudi-pakistan/iran-says-ready-for-talks-with-saudi-with-or-without-mediation-idUSKBN1WR0F8\n",
      "/article/us-mideast-iran-saudi-pakistan/iran-says-ready-for-talks-with-saudi-with-or-without-mediation-idUSKBN1WR0F8\n",
      "/article/us-ecuador-protests-talks/ecuadorean-indigenous-group-announces-direct-talks-with-moreno-idUSKBN1WR0K0\n",
      "/article/us-ecuador-protests-talks/ecuadorean-indigenous-group-announces-direct-talks-with-moreno-idUSKBN1WR0K0\n",
      "/article/us-saudi-aramco-attacks/aramco-hopes-to-repair-remaining-damage-from-attacks-by-end-november-idUSKBN1WR0JS\n",
      "/article/us-saudi-aramco-attacks/aramco-hopes-to-repair-remaining-damage-from-attacks-by-end-november-idUSKBN1WR0JS\n",
      "/article/us-syria-security-turkey-killing/sdf-says-turkey-backed-rebels-killed-kurdish-politician-rebels-deny-it-idUSKBN1WR0JM\n",
      "/article/us-syria-security-turkey-killing/sdf-says-turkey-backed-rebels-killed-kurdish-politician-rebels-deny-it-idUSKBN1WR0JM\n",
      "/article/us-britain-eu/dups-dodds-says-northern-ireland-must-stay-in-full-uk-customs-union-repubblica-idUSKBN1WR0GO\n",
      "/article/us-britain-eu/dups-dodds-says-northern-ireland-must-stay-in-full-uk-customs-union-repubblica-idUSKBN1WR0GO\n",
      "/article/us-hongkong-protests/petrol-bombs-thrown-in-hong-kong-metro-protesters-defy-face-mask-ban-idUSKBN1WR02X\n",
      "/article/us-hongkong-protests/petrol-bombs-thrown-in-hong-kong-metro-protesters-defy-face-mask-ban-idUSKBN1WR02X\n",
      "/article/us-hongkong-protests-cruz/hk-leader-ditches-meeting-ted-cruz-says-the-u-s-senator-idUSKBN1WR0B7\n",
      "/article/us-hongkong-protests-cruz/hk-leader-ditches-meeting-ted-cruz-says-the-u-s-senator-idUSKBN1WR0B7\n"
     ]
    }
   ],
   "source": [
    "for story in stories:\n",
    "    print(story.attrs['href'])"
   ]
  },
  {
   "cell_type": "code",
   "execution_count": 96,
   "metadata": {
    "collapsed": true
   },
   "outputs": [
    {
     "name": "stdout",
     "output_type": "stream",
     "text": [
      "/article/us-syria-security-turkey-usa/turkish-led-forces-advance-into-syrian-border-town-fighting-rages-idUSKBN1WR04D\n",
      "/article/us-syria-security-greece-kurds/kurds-march-in-paris-and-athens-to-protest-turkish-incursion-into-syria-idUSKBN1WR0JY\n",
      "/article/us-ecuador-protests/protest-leaders-in-ecuador-accept-talks-with-government-as-unrest-roils-capital-idUSKBN1WR0JA\n",
      "/article/us-mideast-iran-saudi-pakistan/iran-says-ready-for-talks-with-saudi-with-or-without-mediation-idUSKBN1WR0F8\n",
      "/article/us-ecuador-protests-talks/ecuadorean-indigenous-group-announces-direct-talks-with-moreno-idUSKBN1WR0K0\n",
      "/article/us-saudi-aramco-attacks/aramco-hopes-to-repair-remaining-damage-from-attacks-by-end-november-idUSKBN1WR0JS\n",
      "/article/us-syria-security-turkey-killing/sdf-says-turkey-backed-rebels-killed-kurdish-politician-rebels-deny-it-idUSKBN1WR0JM\n",
      "/article/us-britain-eu/dups-dodds-says-northern-ireland-must-stay-in-full-uk-customs-union-repubblica-idUSKBN1WR0GO\n",
      "/article/us-hongkong-protests/petrol-bombs-thrown-in-hong-kong-metro-protesters-defy-face-mask-ban-idUSKBN1WR02X\n",
      "/article/us-hongkong-protests-cruz/hk-leader-ditches-meeting-ted-cruz-says-the-u-s-senator-idUSKBN1WR0B7\n"
     ]
    }
   ],
   "source": [
    "for story in stories[::2]:\n",
    "    print(story.attrs['href'])"
   ]
  },
  {
   "cell_type": "markdown",
   "metadata": {},
   "source": [
    "## Code to get Reuters World News URLs from their archive"
   ]
  },
  {
   "cell_type": "code",
   "execution_count": 63,
   "metadata": {},
   "outputs": [],
   "source": [
    "base_url = 'https://www.reuters.com/news/archive/worldNews?view=page&page={}&pageSize=10'\n",
    "rt_url_list = []\n",
    "for page in range(300, 450):\n",
    "    url = base_url.format(page)\n",
    "    resp = requests.get(url)\n",
    "    soup = BeautifulSoup(resp.content, 'html.parser')\n",
    "    headline_list = soup.find('div', class_='news-headline-list')\n",
    "    stories = headline_list.find_all('a')\n",
    "    for story in stories[::2]:\n",
    "        rt_url_list.append(story.attrs['href'])\n"
   ]
  },
  {
   "cell_type": "code",
   "execution_count": 64,
   "metadata": {},
   "outputs": [
    {
     "data": {
      "text/plain": [
       "1500"
      ]
     },
     "execution_count": 64,
     "metadata": {},
     "output_type": "execute_result"
    }
   ],
   "source": [
    "len(rt_url_list)"
   ]
  },
  {
   "cell_type": "markdown",
   "metadata": {},
   "source": [
    "## Save our list of Reuters URLs"
   ]
  },
  {
   "cell_type": "code",
   "execution_count": 65,
   "metadata": {},
   "outputs": [],
   "source": [
    "with open('rt_url_list_2.pkl', 'wb') as f:\n",
    "    pickle.dump(rt_url_list, f)"
   ]
  },
  {
   "cell_type": "markdown",
   "metadata": {},
   "source": [
    "## Some Testing"
   ]
  },
  {
   "cell_type": "code",
   "execution_count": 157,
   "metadata": {},
   "outputs": [],
   "source": [
    "test_rt_url_list = rt_url_list[0:10]"
   ]
  },
  {
   "cell_type": "code",
   "execution_count": 4,
   "metadata": {},
   "outputs": [],
   "source": [
    "with open('rt_url_list.pkl', 'rb') as f:\n",
    "    rt_url_list = pickle.load(f)"
   ]
  },
  {
   "cell_type": "code",
   "execution_count": 5,
   "metadata": {},
   "outputs": [
    {
     "data": {
      "text/plain": [
       "2490"
      ]
     },
     "execution_count": 5,
     "metadata": {},
     "output_type": "execute_result"
    }
   ],
   "source": [
    "len(rt_url_list)"
   ]
  },
  {
   "cell_type": "code",
   "execution_count": 17,
   "metadata": {},
   "outputs": [],
   "source": [
    "u = rt_url_list[0]"
   ]
  },
  {
   "cell_type": "code",
   "execution_count": 158,
   "metadata": {},
   "outputs": [
    {
     "data": {
      "text/plain": [
       "'ArticleHeader_date'"
      ]
     },
     "execution_count": 158,
     "metadata": {},
     "output_type": "execute_result"
    }
   ],
   "source": [
    "'ArticleHeader_date'"
   ]
  },
  {
   "cell_type": "code",
   "execution_count": 159,
   "metadata": {},
   "outputs": [
    {
     "data": {
      "text/plain": [
       "'ArticleHeader_headline'"
      ]
     },
     "execution_count": 159,
     "metadata": {},
     "output_type": "execute_result"
    }
   ],
   "source": [
    "'ArticleHeader_headline'"
   ]
  },
  {
   "cell_type": "markdown",
   "metadata": {},
   "source": [
    "## TO DO"
   ]
  },
  {
   "cell_type": "markdown",
   "metadata": {},
   "source": [
    "#### - Pull out date (new func is below - add error handling)\n",
    "#### - Pull out headline\n",
    "#### - Pull out text (func is below - add error handling)\n",
    "#### - Add to data structure\n",
    "#### - Write each dict to a file"
   ]
  },
  {
   "cell_type": "markdown",
   "metadata": {},
   "source": [
    "## Get some RT Articles!"
   ]
  },
  {
   "cell_type": "markdown",
   "metadata": {},
   "source": [
    "## Date parsing code:"
   ]
  },
  {
   "cell_type": "code",
   "execution_count": 51,
   "metadata": {},
   "outputs": [],
   "source": [
    "def get_rt_dt(soup):\n",
    "    from dateutil.parser import parse\n",
    "    d = soup.find('div', class_='ArticleHeader_date')\n",
    "    pat = r'\\w+ \\d+, 2019'\n",
    "    m = re.match(pat, d.text)\n",
    "\n",
    "    # best to check for match before parsing!\n",
    "    if m:\n",
    "        dt = parse(m[0])\n",
    "        return dt.strftime(\"%Y-%m-%d\")\n",
    "    else:\n",
    "        return ''"
   ]
  },
  {
   "cell_type": "markdown",
   "metadata": {},
   "source": [
    "## Get Article Headline"
   ]
  },
  {
   "cell_type": "code",
   "execution_count": 52,
   "metadata": {},
   "outputs": [],
   "source": [
    "def get_rt_headline(soup):\n",
    "    head = soup.find('h1', class_='ArticleHeader_headline').text\n",
    "    return head.strip()"
   ]
  },
  {
   "cell_type": "markdown",
   "metadata": {},
   "source": [
    "## Get Article Text"
   ]
  },
  {
   "cell_type": "code",
   "execution_count": 53,
   "metadata": {},
   "outputs": [],
   "source": [
    "def get_rt_article(soup):\n",
    "    pat1 = r'^\\d+ Min Read'\n",
    "    p1 = re.compile(pat1)\n",
    "\n",
    "    pat2 = r'© 2019 Reuters. All Rights Reserved.'\n",
    "    p2 = re.compile(pat2)\n",
    "\n",
    "    pat3 = r'[A-Z]* \\(Reuters\\) - '\n",
    "    p3 = re.compile(pat3)\n",
    "\n",
    "    \n",
    "    paras = soup.find_all('p')\n",
    "    text_list = []\n",
    "    for para in paras:\n",
    "        text = p1.sub('', para.text)\n",
    "\n",
    "        text = p2.sub('', text)\n",
    "\n",
    "        text = p3.sub('', text)\n",
    "\n",
    "        text_list.append(text.strip())\n",
    "        \n",
    "    return ''.join(text_list)"
   ]
  },
  {
   "cell_type": "code",
   "execution_count": 68,
   "metadata": {},
   "outputs": [],
   "source": [
    "def rt_get_news_articles(rt_url_list):\n",
    "    # set up range of times to sleep:\n",
    "    sleep_sequence = [x/10 for x in range(8, 14)]    \n",
    "    \n",
    "    section = 'World'\n",
    "    \n",
    "    BASE_RT_URL = 'https://www.reuters.com'\n",
    "    \n",
    "    with open('rt_data_2.json', 'a') as rt_data_file:\n",
    "        for u in rt_url_list:\n",
    "            # create full URL first:\n",
    "            url = BASE_RT_URL + u\n",
    "            try:\n",
    "                logging.info(f'Getting page to scrape: {url}')\n",
    "\n",
    "                if validators.url(url) == True:\n",
    "                    response = requests.get(url)\n",
    "                    # If the response was successful, no Exception will be raised\n",
    "                    response.raise_for_status()\n",
    "                else:\n",
    "                    logging.exception(f'url is invalid!  url:  {url}')\n",
    "                    continue\n",
    "            except requests.exceptions.HTTPError as http_err:\n",
    "                logging.exception(f'HTTP error occurred: {http_err} - url: {url}')  # Python 3.6\n",
    "                continue\n",
    "            except Exception as err:\n",
    "                logging.exception(f'Other error occurred: {err} - url: {url}')  # Python 3.6\n",
    "                continue\n",
    "            else:\n",
    "                # success - do the text extraction!\n",
    "                soup = BeautifulSoup(response.content, 'html.parser')\n",
    "                \n",
    "                dt = get_rt_dt(soup)\n",
    "                headline = get_rt_headline(soup)\n",
    "                article = get_rt_article(soup)\n",
    "\n",
    "\n",
    "                # log it, then write it!\n",
    "                logging.info(f\"date: {dt} | section: {section} | url: {url} | headline: {headline} | text: {article[0:20]}\")\n",
    "\n",
    "                # create a data structure with our text\n",
    "                text_entry = dict(paper='RT',\n",
    "                                  date=dt,\n",
    "                                  section=section,\n",
    "                                  url=url,\n",
    "                                  headline=headline,\n",
    "                                  text=article)\n",
    "\n",
    "                rt_data_file.write(json.dumps(text_entry))\n",
    "                rt_data_file.write('\\n')\n",
    "\n",
    "                # now sleep a random period of time\n",
    "                time.sleep(random.choice(sleep_sequence))\n",
    "             "
   ]
  },
  {
   "cell_type": "code",
   "execution_count": 57,
   "metadata": {},
   "outputs": [],
   "source": [
    "test_rt_url_list = rt_url_list[0:10]"
   ]
  },
  {
   "cell_type": "code",
   "execution_count": 47,
   "metadata": {},
   "outputs": [
    {
     "data": {
      "text/plain": [
       "['/article/us-syria-security-turkey-usa/turkish-led-forces-advance-into-syrian-border-town-fighting-rages-idUSKBN1WR04D',\n",
       " '/article/us-syria-security-turkey-killing/sdf-says-turkey-backed-rebels-killed-kurdish-politician-rebels-deny-it-idUSKBN1WR0JM',\n",
       " '/article/us-mideast-iran-tanker/iran-decries-cowardly-attack-on-oil-tanker-idUSKBN1WR05D',\n",
       " '/article/us-kenya-security/at-least-10-kenyan-police-killed-by-bomb-near-somali-border-police-idUSKBN1WR0M4',\n",
       " '/article/us-israel-britain-cemetery/graves-desecrated-at-commonwealth-war-cemetery-in-israel-idUSKBN1WR0KO',\n",
       " '/article/us-ecuador-protests/protest-leaders-in-ecuador-accept-talks-with-government-moreno-imposes-curfew-in-quito-idUSKBN1WR0JA',\n",
       " '/article/us-saudi-usa-troops/saudi-king-approves-u-s-military-deployment-spa-idUSKBN1WR0LH',\n",
       " '/article/us-canada-election/canadas-conservative-leader-mum-on-whether-central-bank-governor-could-get-second-term-idUSKBN1WR0L8',\n",
       " '/article/us-syria-security-turkey-france/france-says-suspends-weapons-sales-to-turkey-idUSKBN1WR0L6',\n",
       " '/article/us-venezuela-politics-guatemala/venezuela-denies-entry-to-guatemalan-president-elect-scuppering-meeting-with-opposition-leader-idUSKBN1WR0EE']"
      ]
     },
     "execution_count": 47,
     "metadata": {},
     "output_type": "execute_result"
    }
   ],
   "source": [
    "test_rt_url_list"
   ]
  },
  {
   "cell_type": "code",
   "execution_count": 58,
   "metadata": {},
   "outputs": [],
   "source": [
    "rt_get_news_articles(test_rt_url_list)"
   ]
  },
  {
   "cell_type": "code",
   "execution_count": 59,
   "metadata": {},
   "outputs": [],
   "source": [
    "new_rt_url_list = rt_url_list[11:]"
   ]
  },
  {
   "cell_type": "code",
   "execution_count": 60,
   "metadata": {},
   "outputs": [
    {
     "data": {
      "text/plain": [
       "2479"
      ]
     },
     "execution_count": 60,
     "metadata": {},
     "output_type": "execute_result"
    }
   ],
   "source": [
    "len(new_rt_url_list)"
   ]
  },
  {
   "cell_type": "code",
   "execution_count": 70,
   "metadata": {},
   "outputs": [],
   "source": [
    "part_rt_url_list = rt_url_list[0:1000]"
   ]
  },
  {
   "cell_type": "code",
   "execution_count": null,
   "metadata": {},
   "outputs": [],
   "source": []
  },
  {
   "cell_type": "code",
   "execution_count": 69,
   "metadata": {},
   "outputs": [
    {
     "data": {
      "text/plain": [
       "1500"
      ]
     },
     "execution_count": 69,
     "metadata": {},
     "output_type": "execute_result"
    }
   ],
   "source": [
    "len(rt_url_list)"
   ]
  },
  {
   "cell_type": "code",
   "execution_count": 71,
   "metadata": {},
   "outputs": [],
   "source": [
    "rt_get_news_articles(part_rt_url_list)"
   ]
  },
  {
   "cell_type": "code",
   "execution_count": null,
   "metadata": {},
   "outputs": [],
   "source": []
  },
  {
   "cell_type": "code",
   "execution_count": null,
   "metadata": {},
   "outputs": [],
   "source": [
    "bigrams = CountVectorizer(stop_words='english', ngram_range=(1,2))"
   ]
  },
  {
   "cell_type": "code",
   "execution_count": null,
   "metadata": {},
   "outputs": [],
   "source": []
  },
  {
   "cell_type": "code",
   "execution_count": null,
   "metadata": {},
   "outputs": [],
   "source": []
  }
 ],
 "metadata": {
  "kernelspec": {
   "display_name": "Python 3",
   "language": "python",
   "name": "python3"
  },
  "language_info": {
   "codemirror_mode": {
    "name": "ipython",
    "version": 3
   },
   "file_extension": ".py",
   "mimetype": "text/x-python",
   "name": "python",
   "nbconvert_exporter": "python",
   "pygments_lexer": "ipython3",
   "version": "3.7.3"
  }
 },
 "nbformat": 4,
 "nbformat_minor": 2
}
